{
 "cells": [
  {
   "cell_type": "markdown",
   "metadata": {},
   "source": [
    "For this project, we are given data on Terry Stop arrest records. A concrete goal of the analysis of this dataset will be to determine if we can predict if the individual was arrested based on the listed features, however it should be noted that there is likely a distinct bias based on the suspect's perceived Race. Further analysis will be conducted to see how Race could affect the final outcome.\n"
   ]
  },
  {
   "cell_type": "code",
   "execution_count": 1,
   "metadata": {},
   "outputs": [
    {
     "data": {
      "text/html": [
       "<div>\n",
       "<style scoped>\n",
       "    .dataframe tbody tr th:only-of-type {\n",
       "        vertical-align: middle;\n",
       "    }\n",
       "\n",
       "    .dataframe tbody tr th {\n",
       "        vertical-align: top;\n",
       "    }\n",
       "\n",
       "    .dataframe thead th {\n",
       "        text-align: right;\n",
       "    }\n",
       "</style>\n",
       "<table border=\"1\" class=\"dataframe\">\n",
       "  <thead>\n",
       "    <tr style=\"text-align: right;\">\n",
       "      <th></th>\n",
       "      <th>Subject Age Group</th>\n",
       "      <th>Subject ID</th>\n",
       "      <th>GO / SC Num</th>\n",
       "      <th>Terry Stop ID</th>\n",
       "      <th>Stop Resolution</th>\n",
       "      <th>Weapon Type</th>\n",
       "      <th>Officer ID</th>\n",
       "      <th>Officer YOB</th>\n",
       "      <th>Officer Gender</th>\n",
       "      <th>Officer Race</th>\n",
       "      <th>...</th>\n",
       "      <th>Reported Time</th>\n",
       "      <th>Initial Call Type</th>\n",
       "      <th>Final Call Type</th>\n",
       "      <th>Call Type</th>\n",
       "      <th>Officer Squad</th>\n",
       "      <th>Arrest Flag</th>\n",
       "      <th>Frisk Flag</th>\n",
       "      <th>Precinct</th>\n",
       "      <th>Sector</th>\n",
       "      <th>Beat</th>\n",
       "    </tr>\n",
       "  </thead>\n",
       "  <tbody>\n",
       "    <tr>\n",
       "      <th>0</th>\n",
       "      <td>46 - 55</td>\n",
       "      <td>-1</td>\n",
       "      <td>20180000001357</td>\n",
       "      <td>408984</td>\n",
       "      <td>Field Contact</td>\n",
       "      <td>None</td>\n",
       "      <td>8563</td>\n",
       "      <td>1993</td>\n",
       "      <td>M</td>\n",
       "      <td>White</td>\n",
       "      <td>...</td>\n",
       "      <td>01:34:00</td>\n",
       "      <td>-</td>\n",
       "      <td>-</td>\n",
       "      <td>-</td>\n",
       "      <td>TRAINING - FIELD TRAINING SQUAD</td>\n",
       "      <td>N</td>\n",
       "      <td>N</td>\n",
       "      <td>-</td>\n",
       "      <td>-</td>\n",
       "      <td>-</td>\n",
       "    </tr>\n",
       "    <tr>\n",
       "      <th>1</th>\n",
       "      <td>46 - 55</td>\n",
       "      <td>-1</td>\n",
       "      <td>20180000001408</td>\n",
       "      <td>412310</td>\n",
       "      <td>Field Contact</td>\n",
       "      <td>None</td>\n",
       "      <td>8571</td>\n",
       "      <td>1995</td>\n",
       "      <td>F</td>\n",
       "      <td>White</td>\n",
       "      <td>...</td>\n",
       "      <td>22:28:00</td>\n",
       "      <td>-</td>\n",
       "      <td>-</td>\n",
       "      <td>-</td>\n",
       "      <td>TRAINING - FIELD TRAINING SQUAD</td>\n",
       "      <td>N</td>\n",
       "      <td>N</td>\n",
       "      <td>-</td>\n",
       "      <td>-</td>\n",
       "      <td>-</td>\n",
       "    </tr>\n",
       "    <tr>\n",
       "      <th>2</th>\n",
       "      <td>-</td>\n",
       "      <td>-1</td>\n",
       "      <td>20140000120677</td>\n",
       "      <td>92317</td>\n",
       "      <td>Arrest</td>\n",
       "      <td>None</td>\n",
       "      <td>7500</td>\n",
       "      <td>1984</td>\n",
       "      <td>M</td>\n",
       "      <td>Black or African American</td>\n",
       "      <td>...</td>\n",
       "      <td>11:32:00</td>\n",
       "      <td>-</td>\n",
       "      <td>-</td>\n",
       "      <td>-</td>\n",
       "      <td>SOUTH PCT 1ST W - ROBERT</td>\n",
       "      <td>N</td>\n",
       "      <td>N</td>\n",
       "      <td>South</td>\n",
       "      <td>O</td>\n",
       "      <td>O2</td>\n",
       "    </tr>\n",
       "    <tr>\n",
       "      <th>3</th>\n",
       "      <td>-</td>\n",
       "      <td>-1</td>\n",
       "      <td>20150000001670</td>\n",
       "      <td>32260</td>\n",
       "      <td>Field Contact</td>\n",
       "      <td>None</td>\n",
       "      <td>7539</td>\n",
       "      <td>1963</td>\n",
       "      <td>M</td>\n",
       "      <td>White</td>\n",
       "      <td>...</td>\n",
       "      <td>04:55:00</td>\n",
       "      <td>-</td>\n",
       "      <td>-</td>\n",
       "      <td>-</td>\n",
       "      <td>NaN</td>\n",
       "      <td>N</td>\n",
       "      <td>N</td>\n",
       "      <td>-</td>\n",
       "      <td>-</td>\n",
       "      <td>-</td>\n",
       "    </tr>\n",
       "    <tr>\n",
       "      <th>4</th>\n",
       "      <td>-</td>\n",
       "      <td>-1</td>\n",
       "      <td>20150000002451</td>\n",
       "      <td>46430</td>\n",
       "      <td>Field Contact</td>\n",
       "      <td>None</td>\n",
       "      <td>7591</td>\n",
       "      <td>1985</td>\n",
       "      <td>M</td>\n",
       "      <td>Hispanic or Latino</td>\n",
       "      <td>...</td>\n",
       "      <td>01:06:00</td>\n",
       "      <td>-</td>\n",
       "      <td>-</td>\n",
       "      <td>-</td>\n",
       "      <td>WEST PCT 3RD W - MARY</td>\n",
       "      <td>N</td>\n",
       "      <td>N</td>\n",
       "      <td>-</td>\n",
       "      <td>-</td>\n",
       "      <td>-</td>\n",
       "    </tr>\n",
       "  </tbody>\n",
       "</table>\n",
       "<p>5 rows × 23 columns</p>\n",
       "</div>"
      ],
      "text/plain": [
       "  Subject Age Group  Subject ID     GO / SC Num  Terry Stop ID  \\\n",
       "0           46 - 55          -1  20180000001357         408984   \n",
       "1           46 - 55          -1  20180000001408         412310   \n",
       "2                 -          -1  20140000120677          92317   \n",
       "3                 -          -1  20150000001670          32260   \n",
       "4                 -          -1  20150000002451          46430   \n",
       "\n",
       "  Stop Resolution Weapon Type Officer ID  Officer YOB Officer Gender  \\\n",
       "0   Field Contact        None     8563           1993              M   \n",
       "1   Field Contact        None     8571           1995              F   \n",
       "2          Arrest        None     7500           1984              M   \n",
       "3   Field Contact        None     7539           1963              M   \n",
       "4   Field Contact        None     7591           1985              M   \n",
       "\n",
       "                Officer Race  ... Reported Time Initial Call Type  \\\n",
       "0                      White  ...      01:34:00                 -   \n",
       "1                      White  ...      22:28:00                 -   \n",
       "2  Black or African American  ...      11:32:00                 -   \n",
       "3                      White  ...      04:55:00                 -   \n",
       "4         Hispanic or Latino  ...      01:06:00                 -   \n",
       "\n",
       "  Final Call Type Call Type                    Officer Squad Arrest Flag  \\\n",
       "0               -         -  TRAINING - FIELD TRAINING SQUAD           N   \n",
       "1               -         -  TRAINING - FIELD TRAINING SQUAD           N   \n",
       "2               -         -         SOUTH PCT 1ST W - ROBERT           N   \n",
       "3               -         -                              NaN           N   \n",
       "4               -         -            WEST PCT 3RD W - MARY           N   \n",
       "\n",
       "  Frisk Flag Precinct  Sector    Beat  \n",
       "0          N        -       -       -  \n",
       "1          N        -       -       -  \n",
       "2          N    South  O       O2      \n",
       "3          N        -       -       -  \n",
       "4          N        -       -       -  \n",
       "\n",
       "[5 rows x 23 columns]"
      ]
     },
     "execution_count": 1,
     "metadata": {},
     "output_type": "execute_result"
    }
   ],
   "source": [
    "import pandas as pd\n",
    "import numpy as np\n",
    "import matplotlib.pyplot as plt\n",
    "%matplotlib inline\n",
    "\n",
    "\n",
    "data=pd.read_csv('Terry_Stops.csv')\n",
    "\n",
    "data.head()"
   ]
  },
  {
   "cell_type": "code",
   "execution_count": 69,
   "metadata": {},
   "outputs": [
    {
     "name": "stdout",
     "output_type": "stream",
     "text": [
      "<class 'pandas.core.frame.DataFrame'>\n",
      "RangeIndex: 42566 entries, 0 to 42565\n",
      "Data columns (total 23 columns):\n",
      "Subject Age Group           42566 non-null object\n",
      "Subject ID                  42566 non-null int64\n",
      "GO / SC Num                 42566 non-null int64\n",
      "Terry Stop ID               42566 non-null int64\n",
      "Stop Resolution             42566 non-null object\n",
      "Weapon Type                 42566 non-null object\n",
      "Officer ID                  42566 non-null object\n",
      "Officer YOB                 42566 non-null int64\n",
      "Officer Gender              42566 non-null object\n",
      "Officer Race                42566 non-null object\n",
      "Subject Perceived Race      42566 non-null object\n",
      "Subject Perceived Gender    42566 non-null object\n",
      "Reported Date               42566 non-null object\n",
      "Reported Time               42566 non-null object\n",
      "Initial Call Type           42566 non-null object\n",
      "Final Call Type             42566 non-null object\n",
      "Call Type                   42566 non-null object\n",
      "Officer Squad               42023 non-null object\n",
      "Arrest Flag                 42566 non-null object\n",
      "Frisk Flag                  42566 non-null object\n",
      "Precinct                    42566 non-null object\n",
      "Sector                      42566 non-null object\n",
      "Beat                        42566 non-null object\n",
      "dtypes: int64(4), object(19)\n",
      "memory usage: 7.5+ MB\n"
     ]
    }
   ],
   "source": [
    "data.info()"
   ]
  },
  {
   "cell_type": "code",
   "execution_count": 3,
   "metadata": {},
   "outputs": [
    {
     "data": {
      "text/plain": [
       "26 - 35         0.331979\n",
       "36 - 45         0.209345\n",
       "18 - 25         0.204576\n",
       "46 - 55         0.128788\n",
       "56 and Above    0.049476\n",
       "1 - 17          0.044590\n",
       "-               0.031246\n",
       "Name: Subject Age Group, dtype: float64"
      ]
     },
     "execution_count": 3,
     "metadata": {},
     "output_type": "execute_result"
    }
   ],
   "source": [
    "data['Subject Age Group'].value_counts(normalize=True)"
   ]
  },
  {
   "cell_type": "code",
   "execution_count": 4,
   "metadata": {},
   "outputs": [
    {
     "name": "stdout",
     "output_type": "stream",
     "text": [
      "-1              0.814147\n",
      " 7726859935     0.000376\n",
      " 7753260438     0.000258\n",
      " 7727117712     0.000235\n",
      " 7727827572     0.000188\n",
      "                  ...   \n",
      " 13012773265    0.000023\n",
      " 8300376482     0.000023\n",
      " 7732894151     0.000023\n",
      " 7734813128     0.000023\n",
      " 11716939786    0.000023\n",
      "Name: Subject ID, Length: 6414, dtype: float64\n"
     ]
    }
   ],
   "source": [
    "print(data['Subject ID'].value_counts(normalize=True))"
   ]
  },
  {
   "cell_type": "code",
   "execution_count": 5,
   "metadata": {},
   "outputs": [
    {
     "name": "stdout",
     "output_type": "stream",
     "text": [
      "20160000378750    0.000376\n",
      "20150000190790    0.000376\n",
      "20180000134604    0.000329\n",
      "20170000132836    0.000305\n",
      "20190000441736    0.000305\n",
      "                    ...   \n",
      "20190000187444    0.000023\n",
      "20170000461131    0.000023\n",
      "20170000001974    0.000023\n",
      "20190000048136    0.000023\n",
      "20180000071981    0.000023\n",
      "Name: GO / SC Num, Length: 33094, dtype: float64\n"
     ]
    }
   ],
   "source": [
    "print(data['GO / SC Num'].value_counts(normalize=True))"
   ]
  },
  {
   "cell_type": "code",
   "execution_count": 7,
   "metadata": {},
   "outputs": [
    {
     "data": {
      "text/plain": [
       "Field Contact               39.425833\n",
       "Offense Report              34.313772\n",
       "Arrest                      24.162477\n",
       "Referred for Prosecution     1.710285\n",
       "Citation / Infraction        0.387633\n",
       "Name: Stop Resolution, dtype: float64"
      ]
     },
     "execution_count": 7,
     "metadata": {},
     "output_type": "execute_result"
    }
   ],
   "source": [
    "data['Stop Resolution'].value_counts(normalize=True)*100"
   ]
  },
  {
   "cell_type": "code",
   "execution_count": 8,
   "metadata": {},
   "outputs": [
    {
     "data": {
      "text/plain": [
       "None                                 0.765047\n",
       "-                                    0.178288\n",
       "Lethal Cutting Instrument            0.034817\n",
       "Knife/Cutting/Stabbing Instrument    0.008763\n",
       "Handgun                              0.006273\n",
       "Firearm Other                        0.002349\n",
       "Club, Blackjack, Brass Knuckles      0.001151\n",
       "Blunt Object/Striking Implement      0.001057\n",
       "Firearm                              0.000493\n",
       "Mace/Pepper Spray                    0.000376\n",
       "Firearm (unk type)                   0.000352\n",
       "Other Firearm                        0.000305\n",
       "Club                                 0.000211\n",
       "Rifle                                0.000141\n",
       "Taser/Stun Gun                       0.000094\n",
       "None/Not Applicable                  0.000094\n",
       "Shotgun                              0.000070\n",
       "Automatic Handgun                    0.000047\n",
       "Brass Knuckles                       0.000023\n",
       "Fire/Incendiary Device               0.000023\n",
       "Blackjack                            0.000023\n",
       "Name: Weapon Type, dtype: float64"
      ]
     },
     "execution_count": 8,
     "metadata": {},
     "output_type": "execute_result"
    }
   ],
   "source": [
    "data['Weapon Type'].value_counts(normalize=True)"
   ]
  },
  {
   "cell_type": "code",
   "execution_count": 9,
   "metadata": {},
   "outputs": [
    {
     "name": "stdout",
     "output_type": "stream",
     "text": [
      "Number of arresting officers  1146\n",
      "Officers with stops fewer than 10:  325\n",
      "Officers with stops fewer than 20:  522\n",
      "Officers with stops fewer than 30:  666\n",
      "Officers with stops fewer than 40:  769\n",
      "Officers with stops fewer than 50:  855\n",
      "Officers with stops fewer than 60:  922\n",
      "Officers with stops fewer than 70:  974\n",
      "Officers with stops fewer than 80:  1013\n",
      "Officers with stops fewer than 90:  1044\n",
      "Officers with stops fewer than 100:  1058\n"
     ]
    }
   ],
   "source": [
    "print('Number of arresting officers ',data['Officer ID'].nunique())\n",
    "\n",
    "for i in range(1,11):\n",
    "    print(f'Officers with stops fewer than {i*10}: ',(data['Officer ID'].value_counts()<i*10).sum())"
   ]
  },
  {
   "cell_type": "code",
   "execution_count": 10,
   "metadata": {},
   "outputs": [
    {
     "data": {
      "text/plain": [
       "<matplotlib.axes._subplots.AxesSubplot at 0x1bc0522a240>"
      ]
     },
     "execution_count": 10,
     "metadata": {},
     "output_type": "execute_result"
    },
    {
     "data": {
      "image/png": "[encoded data removed]",
      "text/plain": [
       "<Figure size 432x288 with 1 Axes>"
      ]
     },
     "metadata": {},
     "output_type": "display_data"
    }
   ],
   "source": [
    "data['Officer YOB'].value_counts(normalize=True)\n",
    "\n",
    "data['Officer YOB'].hist()"
   ]
  },
  {
   "cell_type": "code",
   "execution_count": 11,
   "metadata": {},
   "outputs": [
    {
     "name": "stdout",
     "output_type": "stream",
     "text": [
      "count    42566.00000\n",
      "mean      1982.53242\n",
      "std          8.89790\n",
      "min       1900.00000\n",
      "25%       1978.00000\n",
      "50%       1985.00000\n",
      "75%       1989.00000\n",
      "max       1997.00000\n",
      "Name: Officer YOB, dtype: float64\n"
     ]
    }
   ],
   "source": [
    "print(data['Officer YOB'].describe())"
   ]
  },
  {
   "cell_type": "code",
   "execution_count": 12,
   "metadata": {},
   "outputs": [
    {
     "data": {
      "text/plain": [
       "M    0.887328\n",
       "F    0.112414\n",
       "N    0.000258\n",
       "Name: Officer Gender, dtype: float64"
      ]
     },
     "execution_count": 12,
     "metadata": {},
     "output_type": "execute_result"
    }
   ],
   "source": [
    "data['Officer Gender'].value_counts(normalize=True)"
   ]
  },
  {
   "cell_type": "code",
   "execution_count": 13,
   "metadata": {},
   "outputs": [
    {
     "data": {
      "text/plain": [
       "White                            0.773834\n",
       "Hispanic or Latino               0.055114\n",
       "Two or More Races                0.053094\n",
       "Black or African American        0.040126\n",
       "Asian                            0.038434\n",
       "Not Specified                    0.021825\n",
       "Nat Hawaiian/Oth Pac Islander    0.010008\n",
       "American Indian/Alaska Native    0.007259\n",
       "Unknown                          0.000305\n",
       "Name: Officer Race, dtype: float64"
      ]
     },
     "execution_count": 13,
     "metadata": {},
     "output_type": "execute_result"
    }
   ],
   "source": [
    "data['Officer Race'].value_counts(normalize=True)"
   ]
  },
  {
   "cell_type": "code",
   "execution_count": 14,
   "metadata": {},
   "outputs": [
    {
     "data": {
      "text/plain": [
       "Male                                                         0.780834\n",
       "Female                                                       0.205187\n",
       "Unable to Determine                                          0.007659\n",
       "-                                                            0.006014\n",
       "Unknown                                                      0.000258\n",
       "Gender Diverse (gender non-conforming and/or transgender)    0.000047\n",
       "Name: Subject Perceived Gender, dtype: float64"
      ]
     },
     "execution_count": 14,
     "metadata": {},
     "output_type": "execute_result"
    }
   ],
   "source": [
    "data['Subject Perceived Gender'].value_counts(normalize=True)"
   ]
  },
  {
   "cell_type": "code",
   "execution_count": 15,
   "metadata": {},
   "outputs": [
    {
     "data": {
      "text/plain": [
       "White                                        0.490250\n",
       "Black or African American                    0.297843\n",
       "Unknown                                      0.051027\n",
       "Hispanic                                     0.039562\n",
       "-                                            0.037166\n",
       "Asian                                        0.031316\n",
       "American Indian or Alaska Native             0.029507\n",
       "Multi-Racial                                 0.019006\n",
       "Other                                        0.003571\n",
       "Native Hawaiian or Other Pacific Islander    0.000752\n",
       "Name: Subject Perceived Race, dtype: float64"
      ]
     },
     "execution_count": 15,
     "metadata": {},
     "output_type": "execute_result"
    }
   ],
   "source": [
    "data['Subject Perceived Race'].value_counts(normalize=True)"
   ]
  },
  {
   "cell_type": "code",
   "execution_count": 16,
   "metadata": {},
   "outputs": [
    {
     "data": {
      "text/plain": [
       "19:18:00    0.119814\n",
       "03:13:00    0.117465\n",
       "17:00:00    0.117465\n",
       "03:09:00    0.117465\n",
       "02:56:00    0.117465\n",
       "              ...   \n",
       "07:41:23    0.002349\n",
       "02:07:18    0.002349\n",
       "19:41:29    0.002349\n",
       "00:26:05    0.002349\n",
       "16:50:37    0.002349\n",
       "Name: Reported Time, Length: 8953, dtype: float64"
      ]
     },
     "execution_count": 16,
     "metadata": {},
     "output_type": "execute_result"
    }
   ],
   "source": [
    "data['Reported Time'].value_counts(normalize=True)*100"
   ]
  },
  {
   "cell_type": "code",
   "execution_count": 18,
   "metadata": {},
   "outputs": [
    {
     "data": {
      "text/plain": [
       "2015-10-01T00:00:00    0.002373\n",
       "2015-09-29T00:00:00    0.001551\n",
       "2015-05-28T00:00:00    0.001339\n",
       "2015-07-18T00:00:00    0.001292\n",
       "2019-04-26T00:00:00    0.001269\n",
       "                         ...   \n",
       "2020-05-25T00:00:00    0.000023\n",
       "2015-05-06T00:00:00    0.000023\n",
       "2015-03-31T00:00:00    0.000023\n",
       "2015-04-28T00:00:00    0.000023\n",
       "2015-05-10T00:00:00    0.000023\n",
       "Name: Reported Date, Length: 1898, dtype: float64"
      ]
     },
     "execution_count": 18,
     "metadata": {},
     "output_type": "execute_result"
    }
   ],
   "source": [
    "data['Reported Date'].value_counts(normalize=True)"
   ]
  },
  {
   "cell_type": "code",
   "execution_count": 20,
   "metadata": {},
   "outputs": [
    {
     "name": "stdout",
     "output_type": "stream",
     "text": [
      "-                                                 0.300756\n",
      "SUSPICIOUS STOP - OFFICER INITIATED ONVIEW        0.064840\n",
      "SUSPICIOUS PERSON, VEHICLE OR INCIDENT            0.061927\n",
      "DISTURBANCE, MISCELLANEOUS/OTHER                  0.051661\n",
      "ASLT - IP/JO - WITH OR W/O WPNS (NO SHOOTINGS)    0.041535\n",
      "                                                    ...   \n",
      "ESCAPE - PRISONER                                 0.000023\n",
      "REQUEST TO WATCH                                  0.000023\n",
      "MISSING - ADULT                                   0.000023\n",
      "ALARM - RESIDENTIAL - SILENT/AUD PANIC/DURESS     0.000023\n",
      "UNKNOWN - ANI/ALI - PAY PHNS (INCL OPEN LINE)     0.000023\n",
      "Name: Initial Call Type, Length: 161, dtype: float64\n",
      "['-' 'SUSPICIOUS STOP - OFFICER INITIATED ONVIEW'\n",
      " 'SHOTS - IP/JO - INCLUDES HEARD/NO ASSAULT'\n",
      " 'DIST - IP/JO - DV DIST - NO ASLT'\n",
      " 'NARCOTICS - VIOLATIONS (LOITER, USE, SELL, NARS)'\n",
      " 'MVC - HIT AND RUN (NON INJURY), INCLUDES IP/JO'\n",
      " 'THEFT (DOES NOT INCLUDE SHOPLIFT OR SVCS)'\n",
      " 'SUSPICIOUS PERSON, VEHICLE OR INCIDENT' 'SHOPLIFT - THEFT'\n",
      " 'ASLT - IP/JO - WITH OR W/O WPNS (NO SHOOTINGS)'\n",
      " 'MVC - WITH INJURIES (INCLUDES HIT AND RUN)'\n",
      " 'FIGHT - VERBAL/ORAL (NO WEAPONS)'\n",
      " 'WEAPN-IP/JO-GUN,DEADLY WPN (NO THRT/ASLT/DIST)'\n",
      " 'DISTURBANCE, MISCELLANEOUS/OTHER' 'PROWLER - IP/JO'\n",
      " 'PERSON IN BEHAVIORAL/EMOTIONAL CRISIS'\n",
      " 'FIGHT - IP - PHYSICAL (NO WEAPONS)' 'AUTO RECOVERY' 'TRESPASS'\n",
      " 'TRAFFIC STOP - OFFICER INITIATED ONVIEW'\n",
      " 'BURG - IP/JO - RES (INCL UNOCC STRUCTURES)'\n",
      " 'ROBBERY - IP/JO (INCLUDES STRONG ARM)'\n",
      " 'SHOTS -DELAY/INCLUDES HEARD/NO ASSAULT' 'CARJACKING - IP/JO - ROBBERY'\n",
      " 'WARRANT - MISD WARRANT PICKUP' 'NUISANCE - MISCHIEF'\n",
      " 'BURG - RES (INCL UNOCC STRUCTURES ON PROP)'\n",
      " 'ALARM - COMM, SILENT/AUD BURG (INCL BANKS)'\n",
      " 'UNKNOWN - ANI/ALI - WRLS PHNS (INCL OPEN LINE)'\n",
      " 'DOWN - CHECK FOR PERSON DOWN'\n",
      " 'THREATS (INCLS IN-PERSON/BY PHONE/IN WRITING)'\n",
      " 'BURG - COMM BURGLARY (INCLUDES SCHOOLS)'\n",
      " 'AUTO THEFT - VEH THEFT OR THEFT & RECOVERY' 'WARRANT - FELONY PICKUP'\n",
      " 'DIST - DV - NO ASLT' 'SICK PERSON'\n",
      " 'ASLT - WITH OR W/O WEAPONS (NO SHOOTINGS)'\n",
      " 'HAZ - POTENTIAL THRT TO PHYS SAFETY (NO HAZMAT)'\n",
      " 'UNKNOWN - ANI/ALI - LANDLINE (INCLUDES OPEN LINE)' 'TRAFFIC - ROAD RAGE'\n",
      " 'PROPERTY - DAMAGE' 'ASLT - IP/JO - DV' 'ARSON - IP/JO'\n",
      " 'ORDER - IP - VIOLATION OF DV COURT ORDER'\n",
      " 'SEX IN PUBLIC PLACE/VIEW (INCL MASTURBATION)'\n",
      " 'ORDER - VIOLATING DV COURT ORDER' 'ROBBERY (INCLUDES STRONG ARM)'\n",
      " 'TRAFFIC - BLOCKING ROADWAY' 'ORDER - VIOLATION OF COURT ORDER (NON DV)'\n",
      " 'BURG - IP/JO - COMM BURG (INCLUDES SCHOOLS)'\n",
      " 'ASLT - IP/JO - PERSON SHOT OR SHOT AT' 'PANHANDLING, AGGRESSIVE'\n",
      " 'UNDERCOVER OPS, CAUTION (INCLUDES STAKEOUTS)' 'FOLLOW UP'\n",
      " 'DUI - DRIVING UNDER INFLUENCE' 'FIGHT - IP/JO - WITH WEAPONS'\n",
      " 'FIGHT - WITH WEAPONS' 'FIGHT - JO - PHYSICAL (NO WEAPONS)'\n",
      " 'LEWD -  (EXPOSING, FLASHING, URINATING IN PUB)'\n",
      " 'PROPERTY - DAMAGE (GUN RELATED)' 'TRAFFIC - MOVING VIOLATION'\n",
      " 'MVC - UNK INJURIES' 'SFD - ASSIST ON FIRE OR MEDIC RESPONSE'\n",
      " 'PREMISE CHECK, OFFICER INITIATED ONVIEW ONLY'\n",
      " 'HARAS - NO BIAS, THREATS OR MALICIOUSNESS'\n",
      " 'ASSIST OTHER AGENCY - ROUTINE SERVICE' 'ILLEGAL DUMPING'\n",
      " 'FIREWORKS - NUISANCE (NO HAZARD)' 'LIQUOR VIOLATIONS - ADULT'\n",
      " 'UNKNOWN - COMPLAINT OF UNKNOWN NATURE'\n",
      " 'FRAUD - FORGERY,BUNCO, SCAMS, ID THEFT, ETC'\n",
      " 'OPEN - BUILDING, DOOR, ETC.'\n",
      " 'WEAPN - GUN,DEADLY WPN (NO THRTS/ASLT/DIST)'\n",
      " 'MVC - NON INJURY, BLOCKING' 'NARCOTICS WARRANT SERVICE'\n",
      " 'HELP THE OFFICER' 'VICE - PROSTITUTION'\n",
      " 'SUICIDE - IP/JO SUICIDAL PERSON AND ATTEMPTS' 'SERVICE - WELFARE CHECK'\n",
      " 'LIQUOR VIOLATIONS - MINOR' 'PROWLER' 'JUVENILE - RUNAWAY'\n",
      " 'PURSE SNATCH - IP/JO - ROBBERY' 'RAPE - IP/JO'\n",
      " 'OVERDOSE - DRUG RELATED CASUALTY'\n",
      " 'AUTO THEFT-IP/JO - VEHICLE, PLATES, TABS'\n",
      " 'NOISE - DISTURBANCE (PARTY, ETC)' 'THEFT OF SERVICES'\n",
      " 'PURSE SNATCH - ROBBERY' 'JUVENILE - RUNAWAY PICKUP' 'MISSING - CHILD'\n",
      " 'NARCOTICS WARRANT SERVICE - EXECUTED, SECURED' 'ASLT - DV'\n",
      " 'WARRANT - SEARCH. CAUTION (EXCL NARCOTICS)' 'TRAF - ELUDING POLICE'\n",
      " 'FOOT - ELUDING POLICE' 'CHILD - IP/JO - LURING'\n",
      " 'THREATS - DV - NO ASSAULT' 'RAPE' 'WARRANT - SEARCH. EXECUTED, SECURED'\n",
      " 'CARJACKING - ROBBERY' 'ASLT - PERSON SHOT OR SHOT AT'\n",
      " 'ASSIST PUBLIC - NO WELFARE CHK OR DV ORDER SERVICE'\n",
      " 'CHILD - ABAND, ABUSED, MOLESTED, NEGLECTED'\n",
      " 'ORDER  - SERVICE OF DV COURT ORDER'\n",
      " 'NOISE - DIST, GENERAL (CONST, RESID, BALL PLAY)' 'OFF DUTY EMPLOYMENT'\n",
      " 'ASLT - MOLESTED ADULT (GROPED, FONDLED, ETC.)' 'DEMONSTRATIONS'\n",
      " 'PARKS VIOLATIONS/CITES (INCLUDES EXCLUSIONS)'\n",
      " 'TRAFFIC - ASSIST MOTORIST' '-ASSIGNED DUTY - STAKEOUT'\n",
      " '-ASSIGNED DUTY - FOOT BEAT (FROM ASSIGNED CAR)'\n",
      " 'CHILD - IP/JO - ABAND, ABUSE, MOLEST, NEGLECT'\n",
      " 'ALARM - RESIDENTIAL - BURGLARY, SILENT/AUDIBLE'\n",
      " 'PEACE-STANDBY TO ASSURE (NO COURT ORDR SVC)'\n",
      " 'MVC - REPORT, NON INJ/NON BLKG OR AFTER FACT INJ' 'EXPLOSION - IP/JO'\n",
      " 'BURN - RECKLESS BURNING' 'TRU - THEFT'\n",
      " 'ASSIST OTHER AGENCY - EMERGENCY SERVICE' 'BOMB THREATS - IP/JO'\n",
      " 'PARKING VIOLATION (EXCEPT ABANDONED CAR)' 'ARSON - REPORT'\n",
      " 'BIAS -RACIAL, POLITICAL, SEXUAL MOTIVATION' 'PEDESTRIAN VIOLATIONS'\n",
      " 'AWOL - ADULT OR JUVENILE' 'ASSIST SPD - ROUTINE SERVICE'\n",
      " 'DIRECTED PATROL ACTIVITY'\n",
      " 'ALARM - AUDIBLE AUTOMOBILE (UNOCC/ANTI-THEFT)'\n",
      " 'DOWN - CHECK FOR DOWN PERSON' 'LITTERING' 'ALARM - BANK (HOLD-UP)'\n",
      " 'PROPERTY - FOUND' 'CHILD -  LURING' 'NARCOTICS - FOUND' 'FOUND - PERSON'\n",
      " 'AUTO - THEFT/LOSS, PLATES AND/OR TAB' 'SUSPICIOUS PACKAGE'\n",
      " 'ANIMAL - INJURED, DEAD HAZARD, OTHER'\n",
      " 'SUICIDE, SUICIDAL PERSON AND ATTEMPTS' 'KNOWN KIDNAPPNG'\n",
      " 'REQUEST TO WATCH' 'ESCAPE - PRISONER' 'MISSING - ADULT'\n",
      " 'SLEEPER ABOARD BUS/COMMUTER TRAIN'\n",
      " 'PHONE - OBSCENE OR NUISANCE PHONE CALLS'\n",
      " 'ALARM - ATM MACHINE, FREE STANDING'\n",
      " 'ALARM - RESIDENTIAL - SILENT/AUD PANIC/DURESS'\n",
      " 'DOA - CASUALTY, DEAD BODY' 'VICE - PORNOGRAPHY' 'GAMBLING'\n",
      " 'HAZ - IMMINENT THRT TO PHYS SAFETY (NO HAZ MAT)'\n",
      " 'INJURED - IP/JO - PERSON/INDUSTRIAL ACCIDENT' 'ANIMAL - IP/JO - BITE'\n",
      " 'UNKNOWN - ANI/ALI - PAY PHNS (INCL OPEN LINE)'\n",
      " 'MISSING - (ALZHEIMER, ENDANGERED, ELDERLY)'\n",
      " 'INJURED -  PERSON/INDUSTRIAL ACCIDENT'\n",
      " 'ALARM - COMM, HOLD-UP/PANIC (EXCEPT BANKS)'\n",
      " 'ASSIST SPD - URGENT SERVICE' 'ANIMAL, REPORT - BITE']\n",
      "161\n"
     ]
    }
   ],
   "source": [
    "print(data['Initial Call Type'].value_counts(normalize=True))\n",
    "print(data['Initial Call Type'].unique())\n",
    "print(data['Initial Call Type'].nunique())"
   ]
  },
  {
   "cell_type": "code",
   "execution_count": 21,
   "metadata": {},
   "outputs": [
    {
     "name": "stdout",
     "output_type": "stream",
     "text": [
      "-                                                    0.300756\n",
      "--SUSPICIOUS CIRCUM. - SUSPICIOUS PERSON             0.076023\n",
      "--PROWLER - TRESPASS                                 0.068646\n",
      "--DISTURBANCE - OTHER                                0.056266\n",
      "--ASSAULTS, OTHER                                    0.047832\n",
      "                                                       ...   \n",
      "DUI - DRIVING UNDER INFLUENCE                        0.000023\n",
      "--COMMERCIAL SEXUAL EXPLOITATION OF MINORS (CSEC)    0.000023\n",
      "ASSIST OTHER AGENCY - EMERGENCY SERVICE              0.000023\n",
      "--CROWD MGMNT (STAND BY ONLY)                        0.000023\n",
      "FIGHT - VERBAL/ORAL (NO WEAPONS)                     0.000023\n",
      "Name: Final Call Type, Length: 196, dtype: float64\n"
     ]
    }
   ],
   "source": [
    "print(data['Final Call Type'].value_counts(normalize=True))"
   ]
  },
  {
   "cell_type": "code",
   "execution_count": 22,
   "metadata": {},
   "outputs": [
    {
     "name": "stdout",
     "output_type": "stream",
     "text": [
      "911                              0.435465\n",
      "-                                0.300756\n",
      "ONVIEW                           0.188789\n",
      "TELEPHONE OTHER, NOT 911         0.068905\n",
      "ALARM CALL (NOT POLICE ALARM)    0.005967\n",
      "TEXT MESSAGE                     0.000047\n",
      "PROACTIVE (OFFICER INITIATED)    0.000047\n",
      "SCHEDULED EVENT (RECURRING)      0.000023\n",
      "Name: Call Type, dtype: float64\n"
     ]
    }
   ],
   "source": [
    "print(data['Call Type'].value_counts(normalize=True))"
   ]
  },
  {
   "cell_type": "code",
   "execution_count": 23,
   "metadata": {},
   "outputs": [
    {
     "name": "stdout",
     "output_type": "stream",
     "text": [
      "TRAINING - FIELD TRAINING SQUAD                 0.107893\n",
      "WEST PCT 1ST W - DAVID/MARY                     0.032197\n",
      "WEST PCT 2ND W - D/M RELIEF                     0.021536\n",
      "NORTH PCT 2ND WATCH - NORTH BEATS               0.021060\n",
      "SOUTHWEST PCT 2ND W - FRANK                     0.020275\n",
      "                                                  ...   \n",
      "BURG/THEFT/JUV - WEST                           0.000024\n",
      "HR - BLEA - ACADEMY RECRUITS                    0.000024\n",
      "DV SQUAD D - ORDER SERVICE                      0.000024\n",
      "TRAINING - ADVANCED - SQUAD C                   0.000024\n",
      "COMMUNITY OUTREACH - SPECIAL PROJECTS DETAIL    0.000024\n",
      "Name: Officer Squad, Length: 159, dtype: float64\n"
     ]
    }
   ],
   "source": [
    "print(data['Officer Squad'].value_counts(normalize=True))"
   ]
  },
  {
   "cell_type": "code",
   "execution_count": 24,
   "metadata": {},
   "outputs": [
    {
     "name": "stdout",
     "output_type": "stream",
     "text": [
      "N    0.951205\n",
      "Y    0.048795\n",
      "Name: Arrest Flag, dtype: float64\n"
     ]
    }
   ],
   "source": [
    "print(data['Arrest Flag'].value_counts(normalize=True))"
   ]
  },
  {
   "cell_type": "code",
   "execution_count": 25,
   "metadata": {},
   "outputs": [
    {
     "data": {
      "text/plain": [
       "N    0.769511\n",
       "Y    0.219260\n",
       "-    0.011230\n",
       "Name: Frisk Flag, dtype: float64"
      ]
     },
     "execution_count": 25,
     "metadata": {},
     "output_type": "execute_result"
    }
   ],
   "source": [
    "data['Frisk Flag'].value_counts(normalize=True)"
   ]
  },
  {
   "cell_type": "code",
   "execution_count": 26,
   "metadata": {},
   "outputs": [
    {
     "data": {
      "text/plain": [
       "West         0.227036\n",
       "-            0.225438\n",
       "North        0.221233\n",
       "East         0.133322\n",
       "South        0.118310\n",
       "Southwest    0.054504\n",
       "SouthWest    0.014660\n",
       "Unknown      0.004699\n",
       "OOJ          0.000493\n",
       "FK ERROR     0.000305\n",
       "Name: Precinct, dtype: float64"
      ]
     },
     "execution_count": 26,
     "metadata": {},
     "output_type": "execute_result"
    }
   ],
   "source": [
    "data['Precinct'].value_counts(normalize=True)"
   ]
  },
  {
   "cell_type": "code",
   "execution_count": 28,
   "metadata": {},
   "outputs": [
    {
     "data": {
      "text/plain": [
       "-         0.229831\n",
       "E         0.054903\n",
       "M         0.053329\n",
       "N         0.051473\n",
       "K         0.041395\n",
       "B         0.038951\n",
       "L         0.038505\n",
       "D         0.035521\n",
       "R         0.034182\n",
       "F         0.032373\n",
       "S         0.031668\n",
       "U         0.030588\n",
       "K         0.027933\n",
       "O         0.027275\n",
       "J         0.026289\n",
       "G         0.025537\n",
       "C         0.024362\n",
       "Q         0.022718\n",
       "W         0.022107\n",
       "M         0.018653\n",
       "D         0.016492\n",
       "E         0.016281\n",
       "Q         0.010901\n",
       "N         0.010642\n",
       "O         0.009092\n",
       "F         0.008786\n",
       "R         0.008434\n",
       "S         0.007635\n",
       "G         0.007048\n",
       "U         0.006578\n",
       "B         0.006531\n",
       "J         0.006508\n",
       "W         0.005897\n",
       "C         0.005192\n",
       "L         0.005145\n",
       "99        0.001245\n",
       "Name: Sector, dtype: float64"
      ]
     },
     "execution_count": 28,
     "metadata": {},
     "output_type": "execute_result"
    }
   ],
   "source": [
    "data['Sector'].value_counts(normalize=True)"
   ]
  },
  {
   "cell_type": "code",
   "execution_count": 29,
   "metadata": {},
   "outputs": [
    {
     "data": {
      "text/plain": [
       "-         0.228845\n",
       "N3        0.027604\n",
       "E2        0.025654\n",
       "M2        0.020016\n",
       "M3        0.018606\n",
       "            ...   \n",
       "N1        0.001175\n",
       "C2        0.001175\n",
       "OOJ       0.000446\n",
       "99        0.000399\n",
       "S         0.000047\n",
       "Name: Beat, Length: 107, dtype: float64"
      ]
     },
     "execution_count": 29,
     "metadata": {},
     "output_type": "execute_result"
    }
   ],
   "source": [
    "data['Beat'].value_counts(normalize=True)"
   ]
  },
  {
   "cell_type": "code",
   "execution_count": 2,
   "metadata": {},
   "outputs": [],
   "source": [
    "#Clean all the data\n",
    "\n",
    "duplicates=data[data['Terry Stop ID'].duplicated()]['Terry Stop ID']\n",
    "duprows=data[data['Terry Stop ID'].isin(duplicates)].index[::2]\n",
    "data.drop(duprows,inplace=True)\n",
    "\n",
    "\n",
    "bins=[1899,1978,1985,1989,1998]\n",
    "data['Officer Generation'] = pd.cut(data['Officer YOB'], bins)\n",
    "\n",
    "data['Hour']=[x[:2] for x in data['Reported Time']]\n",
    "\n",
    "data['Reported Date']=pd.to_datetime(data['Reported Date'],format='%Y-%m-%dT00:00:00')\n",
    "data['Weekday']=data['Reported Date'].dt.dayofweek\n",
    "\n",
    "data.drop('Subject ID',axis=1,inplace=True)\n",
    "data.drop('GO / SC Num',axis=1,inplace=True)\n",
    "data.drop('Terry Stop ID',axis=1,inplace=True)\n",
    "data.drop('Officer ID',axis=1,inplace=True)\n",
    "data.drop('Officer YOB',axis=1,inplace=True)\n",
    "data.drop('Reported Time',axis=1,inplace=True)\n",
    "data.drop('Reported Date',axis=1,inplace=True)\n",
    "data.drop(['Precinct','Sector'],axis=1,inplace=True)"
   ]
  },
  {
   "cell_type": "code",
   "execution_count": 3,
   "metadata": {},
   "outputs": [
    {
     "name": "stdout",
     "output_type": "stream",
     "text": [
      "<class 'pandas.core.frame.DataFrame'>\n",
      "Int64Index: 42552 entries, 0 to 42565\n",
      "Data columns (total 17 columns):\n",
      "Subject Age Group           42552 non-null object\n",
      "Stop Resolution             42552 non-null object\n",
      "Weapon Type                 42552 non-null object\n",
      "Officer Gender              42552 non-null object\n",
      "Officer Race                42552 non-null object\n",
      "Subject Perceived Race      42552 non-null object\n",
      "Subject Perceived Gender    42552 non-null object\n",
      "Initial Call Type           42552 non-null object\n",
      "Final Call Type             42552 non-null object\n",
      "Call Type                   42552 non-null object\n",
      "Officer Squad               42009 non-null object\n",
      "Arrest Flag                 42552 non-null object\n",
      "Frisk Flag                  42552 non-null object\n",
      "Beat                        42552 non-null object\n",
      "Officer Generation          42552 non-null category\n",
      "Hour                        42552 non-null object\n",
      "Weekday                     42552 non-null int64\n",
      "dtypes: category(1), int64(1), object(15)\n",
      "memory usage: 5.6+ MB\n"
     ]
    }
   ],
   "source": [
    "data.info() "
   ]
  },
  {
   "cell_type": "code",
   "execution_count": 71,
   "metadata": {},
   "outputs": [
    {
     "data": {
      "text/html": [
       "<div>\n",
       "<style scoped>\n",
       "    .dataframe tbody tr th:only-of-type {\n",
       "        vertical-align: middle;\n",
       "    }\n",
       "\n",
       "    .dataframe tbody tr th {\n",
       "        vertical-align: top;\n",
       "    }\n",
       "\n",
       "    .dataframe thead th {\n",
       "        text-align: right;\n",
       "    }\n",
       "</style>\n",
       "<table border=\"1\" class=\"dataframe\">\n",
       "  <thead>\n",
       "    <tr style=\"text-align: right;\">\n",
       "      <th></th>\n",
       "      <th>Subject Age Group</th>\n",
       "      <th>Stop Resolution</th>\n",
       "      <th>Weapon Type</th>\n",
       "      <th>Officer Gender</th>\n",
       "      <th>Officer Race</th>\n",
       "      <th>Subject Perceived Race</th>\n",
       "      <th>Subject Perceived Gender</th>\n",
       "      <th>Initial Call Type</th>\n",
       "      <th>Final Call Type</th>\n",
       "      <th>Call Type</th>\n",
       "      <th>Officer Squad</th>\n",
       "      <th>Arrest Flag</th>\n",
       "      <th>Frisk Flag</th>\n",
       "      <th>Beat</th>\n",
       "      <th>Officer Generation</th>\n",
       "      <th>Hour</th>\n",
       "      <th>Weekday</th>\n",
       "    </tr>\n",
       "  </thead>\n",
       "  <tbody>\n",
       "    <tr>\n",
       "      <th>0</th>\n",
       "      <td>46 - 55</td>\n",
       "      <td>Field Contact</td>\n",
       "      <td>None</td>\n",
       "      <td>M</td>\n",
       "      <td>White</td>\n",
       "      <td>White</td>\n",
       "      <td>Male</td>\n",
       "      <td>-</td>\n",
       "      <td>-</td>\n",
       "      <td>-</td>\n",
       "      <td>TRAINING - FIELD TRAINING SQUAD</td>\n",
       "      <td>N</td>\n",
       "      <td>N</td>\n",
       "      <td>-</td>\n",
       "      <td>(1989, 1998]</td>\n",
       "      <td>01</td>\n",
       "      <td>5</td>\n",
       "    </tr>\n",
       "    <tr>\n",
       "      <th>1</th>\n",
       "      <td>46 - 55</td>\n",
       "      <td>Field Contact</td>\n",
       "      <td>None</td>\n",
       "      <td>F</td>\n",
       "      <td>White</td>\n",
       "      <td>Multi-Racial</td>\n",
       "      <td>Male</td>\n",
       "      <td>-</td>\n",
       "      <td>-</td>\n",
       "      <td>-</td>\n",
       "      <td>TRAINING - FIELD TRAINING SQUAD</td>\n",
       "      <td>N</td>\n",
       "      <td>N</td>\n",
       "      <td>-</td>\n",
       "      <td>(1989, 1998]</td>\n",
       "      <td>22</td>\n",
       "      <td>1</td>\n",
       "    </tr>\n",
       "    <tr>\n",
       "      <th>2</th>\n",
       "      <td>-</td>\n",
       "      <td>Arrest</td>\n",
       "      <td>None</td>\n",
       "      <td>M</td>\n",
       "      <td>Black or African American</td>\n",
       "      <td>Asian</td>\n",
       "      <td>Male</td>\n",
       "      <td>-</td>\n",
       "      <td>-</td>\n",
       "      <td>-</td>\n",
       "      <td>SOUTH PCT 1ST W - ROBERT</td>\n",
       "      <td>N</td>\n",
       "      <td>N</td>\n",
       "      <td>O2</td>\n",
       "      <td>(1978, 1985]</td>\n",
       "      <td>11</td>\n",
       "      <td>4</td>\n",
       "    </tr>\n",
       "    <tr>\n",
       "      <th>3</th>\n",
       "      <td>-</td>\n",
       "      <td>Field Contact</td>\n",
       "      <td>None</td>\n",
       "      <td>M</td>\n",
       "      <td>White</td>\n",
       "      <td>-</td>\n",
       "      <td>-</td>\n",
       "      <td>-</td>\n",
       "      <td>-</td>\n",
       "      <td>-</td>\n",
       "      <td>NaN</td>\n",
       "      <td>N</td>\n",
       "      <td>N</td>\n",
       "      <td>-</td>\n",
       "      <td>(1899, 1978]</td>\n",
       "      <td>04</td>\n",
       "      <td>2</td>\n",
       "    </tr>\n",
       "    <tr>\n",
       "      <th>4</th>\n",
       "      <td>-</td>\n",
       "      <td>Field Contact</td>\n",
       "      <td>None</td>\n",
       "      <td>M</td>\n",
       "      <td>Hispanic or Latino</td>\n",
       "      <td>-</td>\n",
       "      <td>-</td>\n",
       "      <td>-</td>\n",
       "      <td>-</td>\n",
       "      <td>-</td>\n",
       "      <td>WEST PCT 3RD W - MARY</td>\n",
       "      <td>N</td>\n",
       "      <td>N</td>\n",
       "      <td>-</td>\n",
       "      <td>(1978, 1985]</td>\n",
       "      <td>01</td>\n",
       "      <td>0</td>\n",
       "    </tr>\n",
       "    <tr>\n",
       "      <th>5</th>\n",
       "      <td>-</td>\n",
       "      <td>Field Contact</td>\n",
       "      <td>None</td>\n",
       "      <td>M</td>\n",
       "      <td>White</td>\n",
       "      <td>-</td>\n",
       "      <td>-</td>\n",
       "      <td>-</td>\n",
       "      <td>-</td>\n",
       "      <td>-</td>\n",
       "      <td>NORTH PCT 2ND W - NORA</td>\n",
       "      <td>N</td>\n",
       "      <td>N</td>\n",
       "      <td>-</td>\n",
       "      <td>(1978, 1985]</td>\n",
       "      <td>19</td>\n",
       "      <td>1</td>\n",
       "    </tr>\n",
       "    <tr>\n",
       "      <th>6</th>\n",
       "      <td>-</td>\n",
       "      <td>Field Contact</td>\n",
       "      <td>None</td>\n",
       "      <td>M</td>\n",
       "      <td>White</td>\n",
       "      <td>-</td>\n",
       "      <td>-</td>\n",
       "      <td>-</td>\n",
       "      <td>-</td>\n",
       "      <td>-</td>\n",
       "      <td>NORTH PCT 2ND W - NORA</td>\n",
       "      <td>N</td>\n",
       "      <td>N</td>\n",
       "      <td>-</td>\n",
       "      <td>(1978, 1985]</td>\n",
       "      <td>19</td>\n",
       "      <td>1</td>\n",
       "    </tr>\n",
       "    <tr>\n",
       "      <th>7</th>\n",
       "      <td>-</td>\n",
       "      <td>Field Contact</td>\n",
       "      <td>None</td>\n",
       "      <td>M</td>\n",
       "      <td>White</td>\n",
       "      <td>American Indian or Alaska Native</td>\n",
       "      <td>Male</td>\n",
       "      <td>-</td>\n",
       "      <td>-</td>\n",
       "      <td>-</td>\n",
       "      <td>WEST PCT 3RD W - K/Q RELIEF</td>\n",
       "      <td>N</td>\n",
       "      <td>N</td>\n",
       "      <td>-</td>\n",
       "      <td>(1899, 1978]</td>\n",
       "      <td>01</td>\n",
       "      <td>3</td>\n",
       "    </tr>\n",
       "    <tr>\n",
       "      <th>8</th>\n",
       "      <td>-</td>\n",
       "      <td>Field Contact</td>\n",
       "      <td>None</td>\n",
       "      <td>M</td>\n",
       "      <td>Black or African American</td>\n",
       "      <td>Unknown</td>\n",
       "      <td>Unable to Determine</td>\n",
       "      <td>-</td>\n",
       "      <td>-</td>\n",
       "      <td>-</td>\n",
       "      <td>SOUTH PCT 1ST W - ROBERT</td>\n",
       "      <td>N</td>\n",
       "      <td>N</td>\n",
       "      <td>-</td>\n",
       "      <td>(1978, 1985]</td>\n",
       "      <td>04</td>\n",
       "      <td>4</td>\n",
       "    </tr>\n",
       "    <tr>\n",
       "      <th>9</th>\n",
       "      <td>-</td>\n",
       "      <td>Field Contact</td>\n",
       "      <td>None</td>\n",
       "      <td>M</td>\n",
       "      <td>White</td>\n",
       "      <td>Unknown</td>\n",
       "      <td>Unable to Determine</td>\n",
       "      <td>-</td>\n",
       "      <td>-</td>\n",
       "      <td>-</td>\n",
       "      <td>SOUTH PCT 1ST W - ROBERT</td>\n",
       "      <td>N</td>\n",
       "      <td>N</td>\n",
       "      <td>-</td>\n",
       "      <td>(1978, 1985]</td>\n",
       "      <td>14</td>\n",
       "      <td>4</td>\n",
       "    </tr>\n",
       "  </tbody>\n",
       "</table>\n",
       "</div>"
      ],
      "text/plain": [
       "  Subject Age Group Stop Resolution Weapon Type Officer Gender  \\\n",
       "0           46 - 55   Field Contact        None              M   \n",
       "1           46 - 55   Field Contact        None              F   \n",
       "2                 -          Arrest        None              M   \n",
       "3                 -   Field Contact        None              M   \n",
       "4                 -   Field Contact        None              M   \n",
       "5                 -   Field Contact        None              M   \n",
       "6                 -   Field Contact        None              M   \n",
       "7                 -   Field Contact        None              M   \n",
       "8                 -   Field Contact        None              M   \n",
       "9                 -   Field Contact        None              M   \n",
       "\n",
       "                Officer Race            Subject Perceived Race  \\\n",
       "0                      White                             White   \n",
       "1                      White                      Multi-Racial   \n",
       "2  Black or African American                             Asian   \n",
       "3                      White                                 -   \n",
       "4         Hispanic or Latino                                 -   \n",
       "5                      White                                 -   \n",
       "6                      White                                 -   \n",
       "7                      White  American Indian or Alaska Native   \n",
       "8  Black or African American                           Unknown   \n",
       "9                      White                           Unknown   \n",
       "\n",
       "  Subject Perceived Gender Initial Call Type Final Call Type Call Type  \\\n",
       "0                     Male                 -               -         -   \n",
       "1                     Male                 -               -         -   \n",
       "2                     Male                 -               -         -   \n",
       "3                        -                 -               -         -   \n",
       "4                        -                 -               -         -   \n",
       "5                        -                 -               -         -   \n",
       "6                        -                 -               -         -   \n",
       "7                     Male                 -               -         -   \n",
       "8      Unable to Determine                 -               -         -   \n",
       "9      Unable to Determine                 -               -         -   \n",
       "\n",
       "                     Officer Squad Arrest Flag Frisk Flag    Beat  \\\n",
       "0  TRAINING - FIELD TRAINING SQUAD           N          N       -   \n",
       "1  TRAINING - FIELD TRAINING SQUAD           N          N       -   \n",
       "2         SOUTH PCT 1ST W - ROBERT           N          N  O2       \n",
       "3                              NaN           N          N       -   \n",
       "4            WEST PCT 3RD W - MARY           N          N       -   \n",
       "5           NORTH PCT 2ND W - NORA           N          N       -   \n",
       "6           NORTH PCT 2ND W - NORA           N          N       -   \n",
       "7      WEST PCT 3RD W - K/Q RELIEF           N          N       -   \n",
       "8         SOUTH PCT 1ST W - ROBERT           N          N       -   \n",
       "9         SOUTH PCT 1ST W - ROBERT           N          N       -   \n",
       "\n",
       "  Officer Generation Hour  Weekday  \n",
       "0       (1989, 1998]   01        5  \n",
       "1       (1989, 1998]   22        1  \n",
       "2       (1978, 1985]   11        4  \n",
       "3       (1899, 1978]   04        2  \n",
       "4       (1978, 1985]   01        0  \n",
       "5       (1978, 1985]   19        1  \n",
       "6       (1978, 1985]   19        1  \n",
       "7       (1899, 1978]   01        3  \n",
       "8       (1978, 1985]   04        4  \n",
       "9       (1978, 1985]   14        4  "
      ]
     },
     "execution_count": 71,
     "metadata": {},
     "output_type": "execute_result"
    }
   ],
   "source": [
    "data.head(10)"
   ]
  },
  {
   "cell_type": "code",
   "execution_count": 14,
   "metadata": {},
   "outputs": [
    {
     "name": "stdout",
     "output_type": "stream",
     "text": [
      "(42552, 711)\n"
     ]
    }
   ],
   "source": [
    "from sklearn.model_selection import train_test_split\n",
    "\n",
    "\n",
    "y=[1 if x=='Arrest' else 0 for x in data['Stop Resolution']]\n",
    "\n",
    "data.drop('Stop Resolution',axis=1,inplace=True)\n",
    "X=pd.get_dummies(data,columns=data.columns,drop_first=True)\n",
    "print(X.shape)\n",
    "\n",
    "\n"
   ]
  },
  {
   "cell_type": "code",
   "execution_count": 4,
   "metadata": {},
   "outputs": [
    {
     "name": "stderr",
     "output_type": "stream",
     "text": [
      "C:\\Users\\dkond\\Anaconda3\\lib\\site-packages\\sklearn\\model_selection\\_split.py:2026: FutureWarning: From version 0.21, test_size will always complement train_size unless both are specified.\n",
      "  FutureWarning)\n"
     ]
    }
   ],
   "source": [
    "X_train,X_test,y_train,y_test=train_test_split(X,y,random_state=100,train_size=.75)"
   ]
  },
  {
   "cell_type": "code",
   "execution_count": 58,
   "metadata": {},
   "outputs": [
    {
     "data": {
      "text/plain": [
       "KNeighborsClassifier(algorithm='auto', leaf_size=30, metric='minkowski',\n",
       "           metric_params=None, n_jobs=1, n_neighbors=5, p=2,\n",
       "           weights='uniform')"
      ]
     },
     "execution_count": 58,
     "metadata": {},
     "output_type": "execute_result"
    }
   ],
   "source": [
    "from sklearn.neighbors import KNeighborsClassifier\n",
    "\n",
    "# Instantiate KNeighborsClassifier\n",
    "clf = KNeighborsClassifier()\n",
    "\n",
    "# Fit the classifier\n",
    "clf.fit(X_train, y_train)\n",
    "\n",
    "#Takes so long that computer crashes, cannot resolve. On to next type of classiier"
   ]
  },
  {
   "cell_type": "code",
   "execution_count": 26,
   "metadata": {},
   "outputs": [
    {
     "data": {
      "text/plain": [
       "DecisionTreeClassifier(class_weight=None, criterion='entropy', max_depth=None,\n",
       "            max_features=None, max_leaf_nodes=None,\n",
       "            min_impurity_decrease=0.0, min_impurity_split=None,\n",
       "            min_samples_leaf=1, min_samples_split=2,\n",
       "            min_weight_fraction_leaf=0.0, presort=False, random_state=None,\n",
       "            splitter='best')"
      ]
     },
     "execution_count": 26,
     "metadata": {},
     "output_type": "execute_result"
    }
   ],
   "source": [
    "from sklearn.tree import DecisionTreeClassifier\n",
    "from sklearn import tree\n",
    "\n",
    "\n",
    "DTC = DecisionTreeClassifier(criterion='entropy')\n",
    "\n",
    "DTC.fit(X_train, y_train)"
   ]
  },
  {
   "cell_type": "code",
   "execution_count": 28,
   "metadata": {},
   "outputs": [],
   "source": [
    "test_preds = DTC.predict(X_test)"
   ]
  },
  {
   "cell_type": "code",
   "execution_count": 5,
   "metadata": {},
   "outputs": [],
   "source": [
    "from sklearn.metrics import precision_score, recall_score, accuracy_score, f1_score\n",
    "\n",
    "def print_metrics(labels, preds):\n",
    "    print(\"Precision Score: {}\".format(precision_score(labels, preds)))\n",
    "    print(\"Recall Score: {}\".format(recall_score(labels, preds)))\n",
    "    print(\"Accuracy Score: {}\".format(accuracy_score(labels, preds)))\n",
    "    print(\"F1 Score: {}\".format(f1_score(labels, preds)))\n"
   ]
  },
  {
   "cell_type": "code",
   "execution_count": 33,
   "metadata": {},
   "outputs": [
    {
     "name": "stdout",
     "output_type": "stream",
     "text": [
      "Testing data\n",
      "Precision Score: 0.6954962136309286\n",
      "Recall Score: 0.6872784560850729\n",
      "Accuracy Score: 0.8535438992291784\n",
      "F1 Score: 0.6913629160063391\n",
      "\n",
      "\n",
      "Training data\n",
      "Precision Score: 0.9993497203797633\n",
      "Recall Score: 0.992764857881137\n",
      "Accuracy Score: 0.9980886131478348\n",
      "F1 Score: 0.9960464061183486\n"
     ]
    }
   ],
   "source": [
    "train_preds=DTC.predict(X_train)\n",
    "\n",
    "print('Testing data')\n",
    "print_metrics(y_test,test_preds)\n",
    "print('\\n')\n",
    "print('Training data')\n",
    "print_metrics(y_train,train_preds)\n",
    "\n",
    "\n",
    "#clear case of overfitting"
   ]
  },
  {
   "cell_type": "code",
   "execution_count": 16,
   "metadata": {},
   "outputs": [
    {
     "name": "stdout",
     "output_type": "stream",
     "text": [
      "testing data\n",
      "\n",
      "Precision Score: 0.7005627009646302\n",
      "Recall Score: 0.6864907443875542\n",
      "Accuracy Score: 0.8551419439744313\n",
      "F1 Score: 0.6934553411577483\n",
      "testing data\n",
      "\n",
      "Precision Score: 0.9993497203797633\n",
      "Recall Score: 0.992764857881137\n",
      "Accuracy Score: 0.9980886131478348\n",
      "F1 Score: 0.9960464061183486\n"
     ]
    }
   ],
   "source": [
    "DTC_gini=DecisionTreeClassifier(criterion='gini')\n",
    "DTC_gini.fit(X_train,y_train)\n",
    "\n",
    "test_preds_gini=DTC_gini.predict(X_test)\n",
    "train_preds_gini=DTC_gini.predict(X_train)\n",
    "\n",
    "print('testing data\\n')\n",
    "print_metrics(y_test,test_preds_gini)\n",
    "print('testing data\\n')\n",
    "print_metrics(y_train,train_preds_gini)\n",
    "#Not great. Clearly overfit"
   ]
  },
  {
   "cell_type": "code",
   "execution_count": 17,
   "metadata": {},
   "outputs": [
    {
     "data": {
      "text/plain": [
       "GridSearchCV(cv=3, error_score='raise',\n",
       "       estimator=DecisionTreeClassifier(class_weight=None, criterion='gini', max_depth=None,\n",
       "            max_features=None, max_leaf_nodes=None,\n",
       "            min_impurity_decrease=0.0, min_impurity_split=None,\n",
       "            min_samples_leaf=1, min_samples_split=2,\n",
       "            min_weight_fraction_leaf=0.0, presort=False, random_state=None,\n",
       "            splitter='best'),\n",
       "       fit_params=None, iid=True, n_jobs=1,\n",
       "       param_grid={'criterion': ['entropy', 'gini'], 'max_depth': [None, 2, 3, 5], 'min_samples_split': [2, 5, 10], 'min_samples_leaf': [1, 2, 3, 4, 5, 6]},\n",
       "       pre_dispatch='2*n_jobs', refit=True, return_train_score=True,\n",
       "       scoring=None, verbose=0)"
      ]
     },
     "execution_count": 17,
     "metadata": {},
     "output_type": "execute_result"
    }
   ],
   "source": [
    "from sklearn.model_selection import GridSearchCV, cross_val_score\n",
    "\n",
    "param_grid={'criterion':['entropy','gini'],\n",
    "           'max_depth':[None,2,3,5],\n",
    "           'min_samples_split':[2,5,10],\n",
    "           'min_samples_leaf': [1, 2, 3, 4, 5, 6]}\n",
    "\n",
    "dt_grid_search = GridSearchCV(DecisionTreeClassifier(), param_grid, cv=3, return_train_score=True)\n",
    "dt_grid_search.fit(X_train, y_train)"
   ]
  },
  {
   "cell_type": "code",
   "execution_count": 18,
   "metadata": {},
   "outputs": [
    {
     "name": "stdout",
     "output_type": "stream",
     "text": [
      "Mean Training Score: 85.68%\n",
      "Mean Test Score: 85.91%\n",
      "Best Parameter Combination Found During Grid Search:\n"
     ]
    },
    {
     "data": {
      "text/plain": [
       "{'criterion': 'gini',\n",
       " 'max_depth': None,\n",
       " 'min_samples_leaf': 2,\n",
       " 'min_samples_split': 10}"
      ]
     },
     "execution_count": 18,
     "metadata": {},
     "output_type": "execute_result"
    }
   ],
   "source": [
    "dt_gs_training_score = np.mean(dt_grid_search.cv_results_['mean_train_score'])\n",
    "\n",
    "# Mean test score\n",
    "dt_gs_testing_score = dt_grid_search.score(X_test, y_test)\n",
    "\n",
    "print(f\"Mean Training Score: {dt_gs_training_score :.2%}\")\n",
    "print(f\"Mean Test Score: {dt_gs_testing_score :.2%}\")\n",
    "print(\"Best Parameter Combination Found During Grid Search:\")\n",
    "dt_grid_search.best_params_\n",
    "\n",
    "#oh hell yea"
   ]
  },
  {
   "cell_type": "code",
   "execution_count": 22,
   "metadata": {},
   "outputs": [
    {
     "name": "stdout",
     "output_type": "stream",
     "text": [
      "testing data\n",
      "\n",
      "Precision Score: 0.7334821428571429\n",
      "Recall Score: 0.6471051595116187\n",
      "Accuracy Score: 0.8596540703139688\n",
      "F1 Score: 0.6875915463486084\n",
      "testing data\n",
      "\n",
      "Precision Score: 0.9190207156308852\n",
      "Recall Score: 0.8196382428940568\n",
      "Accuracy Score: 0.9387416180986401\n",
      "F1 Score: 0.8664891074233421\n"
     ]
    }
   ],
   "source": [
    "DTC_Best=DecisionTreeClassifier(criterion='gini',max_depth=None,min_samples_leaf=2,min_samples_split=10)\n",
    "\n",
    "DTC_Best.fit(X_train,y_train)\n",
    "\n",
    "test_preds_Best=DTC_Best.predict(X_test)\n",
    "train_preds_Best=DTC_Best.predict(X_train)\n",
    "\n",
    "print('testing data\\n')\n",
    "print_metrics(y_test,test_preds_Best)\n",
    "print('testing data\\n')\n",
    "print_metrics(y_train,train_preds_Best)\n",
    "#Its good but could be better. Next step is random forests"
   ]
  },
  {
   "cell_type": "code",
   "execution_count": 24,
   "metadata": {},
   "outputs": [
    {
     "name": "stdout",
     "output_type": "stream",
     "text": [
      "0.9492072444695118\n",
      "0.8766685467193082\n"
     ]
    }
   ],
   "source": [
    "from sklearn.ensemble import BaggingClassifier, RandomForestClassifier\n",
    "\n",
    "bagged_tree =  BaggingClassifier(DTC_Best, n_estimators=20)\n",
    "bagged_tree.fit(X_train, y_train)\n",
    "print(bagged_tree.score(X_train,y_train))\n",
    "print(bagged_tree.score(X_test,y_test))\n",
    "#only slightly better. Not worthwhile"
   ]
  },
  {
   "cell_type": "code",
   "execution_count": 25,
   "metadata": {},
   "outputs": [
    {
     "data": {
      "text/plain": [
       "RandomForestClassifier(bootstrap=True, class_weight=None, criterion='gini',\n",
       "            max_depth=5, max_features='auto', max_leaf_nodes=None,\n",
       "            min_impurity_decrease=0.0, min_impurity_split=None,\n",
       "            min_samples_leaf=1, min_samples_split=2,\n",
       "            min_weight_fraction_leaf=0.0, n_estimators=100, n_jobs=1,\n",
       "            oob_score=False, random_state=None, verbose=0,\n",
       "            warm_start=False)"
      ]
     },
     "execution_count": 25,
     "metadata": {},
     "output_type": "execute_result"
    }
   ],
   "source": [
    "forest = RandomForestClassifier(n_estimators=100, max_depth= 5)\n",
    "forest.fit(X_train, y_train)"
   ]
  },
  {
   "cell_type": "code",
   "execution_count": 26,
   "metadata": {},
   "outputs": [
    {
     "name": "stdout",
     "output_type": "stream",
     "text": [
      "0.7575985460926239\n",
      "0.7614213197969543\n"
     ]
    }
   ],
   "source": [
    "print(forest.score(X_train,y_train))\n",
    "print(forest.score(X_test,y_test))"
   ]
  },
  {
   "cell_type": "code",
   "execution_count": 30,
   "metadata": {},
   "outputs": [
    {
     "data": {
      "text/plain": [
       "GridSearchCV(cv=3, error_score='raise',\n",
       "       estimator=RandomForestClassifier(bootstrap=True, class_weight=None, criterion='gini',\n",
       "            max_depth=None, max_features='auto', max_leaf_nodes=None,\n",
       "            min_impurity_decrease=0.0, min_impurity_split=None,\n",
       "            min_samples_leaf=1, min_samples_split=2,\n",
       "            min_weight_fraction_leaf=0.0, n_estimators=10, n_jobs=1,\n",
       "            oob_score=False, random_state=None, verbose=0,\n",
       "            warm_start=False),\n",
       "       fit_params=None, iid=True, n_jobs=1,\n",
       "       param_grid={'criterion': ['gini', 'entropy'], 'n_estimators': [10, 25, 50, 100], 'max_depth': [None, 5], 'min_samples_leaf': [2], 'min_samples_split': [10]},\n",
       "       pre_dispatch='2*n_jobs', refit=True, return_train_score='warn',\n",
       "       scoring=None, verbose=0)"
      ]
     },
     "execution_count": 30,
     "metadata": {},
     "output_type": "execute_result"
    }
   ],
   "source": [
    "forest_grid={'criterion':['gini','entropy'],\n",
    "            'n_estimators':[10,25,50,100],\n",
    "            'max_depth':[None,5],\n",
    "            'min_samples_leaf': [2],\n",
    "            'min_samples_split': [10]}\n",
    "\n",
    "rf_grid_search = GridSearchCV(RandomForestClassifier(), forest_grid, cv=3)\n",
    "rf_grid_search.fit(X_train, y_train)"
   ]
  },
  {
   "cell_type": "code",
   "execution_count": 31,
   "metadata": {},
   "outputs": [
    {
     "name": "stdout",
     "output_type": "stream",
     "text": [
      "Training Accuracy: 86.62%\n",
      "\n",
      "Optimal Parameters: {'criterion': 'entropy', 'max_depth': None, 'min_samples_leaf': 2, 'min_samples_split': 10, 'n_estimators': 100}\n"
     ]
    }
   ],
   "source": [
    "print(f\"Training Accuracy: {rf_grid_search.best_score_ :.2%}\")\n",
    "print(\"\")\n",
    "print(f\"Optimal Parameters: {rf_grid_search.best_params_}\")\n"
   ]
  },
  {
   "cell_type": "code",
   "execution_count": 37,
   "metadata": {},
   "outputs": [
    {
     "name": "stdout",
     "output_type": "stream",
     "text": [
      "testing data\n",
      "\n",
      "Precision Score: 0.8179871520342612\n",
      "Recall Score: 0.601811736904293\n",
      "Accuracy Score: 0.873002444068434\n",
      "F1 Score: 0.6934422509643748\n",
      "training data\n",
      "\n",
      "Precision Score: 0.9247345903977182\n",
      "Recall Score: 0.7540051679586564\n",
      "Accuracy Score: 0.9254559127655574\n",
      "F1 Score: 0.8306882072450359\n"
     ]
    }
   ],
   "source": [
    "RFC_Best=RandomForestClassifier(criterion= 'entropy', max_depth= None, min_samples_leaf= 2, \n",
    "                                min_samples_split= 10, n_estimators= 100)\n",
    "\n",
    "RFC_Best.fit(X_train,y_train)\n",
    "\n",
    "test_preds_RFC=RFC_Best.predict(X_test)\n",
    "train_preds_RFC=RFC_Best.predict(X_train)\n",
    "\n",
    "print('testing data\\n')\n",
    "print_metrics(y_test,test_preds_RFC)\n",
    "print('training data\\n')\n",
    "print_metrics(y_train,train_preds_RFC)"
   ]
  },
  {
   "cell_type": "code",
   "execution_count": 7,
   "metadata": {},
   "outputs": [],
   "source": [
    "import re\n",
    "\n",
    "regex = re.compile(r\"\\[|\\]|<\", re.IGNORECASE)\n",
    "\n",
    "X_train.columns = [regex.sub(\"_\", col) if any(x in str(col) for x in set(('[', ']', '<'))) else col for col in X_train.columns.values]\n",
    "X_test.columns = [regex.sub(\"_\", col) if any(x in str(col) for x in set(('[', ']', '<'))) else col for col in X_test.columns.values]\n"
   ]
  },
  {
   "cell_type": "code",
   "execution_count": 9,
   "metadata": {},
   "outputs": [],
   "source": [
    "from xgboost import XGBClassifier\n",
    "\n",
    "XGB=XGBClassifier()\n",
    "XGB.fit(X_train,y_train)\n",
    "\n",
    "test_preds_XGB=XGB.predict(X_test)\n",
    "train_preds_XGB=XGB.predict(X_train)"
   ]
  },
  {
   "cell_type": "code",
   "execution_count": 48,
   "metadata": {},
   "outputs": [
    {
     "name": "stdout",
     "output_type": "stream",
     "text": [
      "testing data\n",
      "\n",
      "Precision Score: 0.8322903629536921\n",
      "Recall Score: 0.5238282788499409\n",
      "Accuracy Score: 0.861158112427148\n",
      "F1 Score: 0.6429780033840947\n",
      "training data\n",
      "\n",
      "Precision Score: 0.8413441955193482\n",
      "Recall Score: 0.5337209302325582\n",
      "Accuracy Score: 0.862505483486871\n",
      "F1 Score: 0.6531225296442688\n"
     ]
    }
   ],
   "source": [
    "print('testing data\\n')\n",
    "print_metrics(y_test,test_preds_XGB)\n",
    "print('training data\\n')\n",
    "print_metrics(y_train,train_preds_XGB)"
   ]
  },
  {
   "cell_type": "code",
   "execution_count": 49,
   "metadata": {},
   "outputs": [
    {
     "name": "stderr",
     "output_type": "stream",
     "text": [
      "C:\\Users\\dkond\\Anaconda3\\lib\\site-packages\\sklearn\\preprocessing\\label.py:151: DeprecationWarning: The truth value of an empty array is ambiguous. Returning False, but in future this will result in an error. Use `array.size > 0` to check that an array is not empty.\n",
      "  if diff:\n",
      "C:\\Users\\dkond\\Anaconda3\\lib\\site-packages\\sklearn\\preprocessing\\label.py:151: DeprecationWarning: The truth value of an empty array is ambiguous. Returning False, but in future this will result in an error. Use `array.size > 0` to check that an array is not empty.\n",
      "  if diff:\n",
      "C:\\Users\\dkond\\Anaconda3\\lib\\site-packages\\sklearn\\preprocessing\\label.py:151: DeprecationWarning: The truth value of an empty array is ambiguous. Returning False, but in future this will result in an error. Use `array.size > 0` to check that an array is not empty.\n",
      "  if diff:\n",
      "C:\\Users\\dkond\\Anaconda3\\lib\\site-packages\\sklearn\\preprocessing\\label.py:151: DeprecationWarning: The truth value of an empty array is ambiguous. Returning False, but in future this will result in an error. Use `array.size > 0` to check that an array is not empty.\n",
      "  if diff:\n",
      "C:\\Users\\dkond\\Anaconda3\\lib\\site-packages\\sklearn\\preprocessing\\label.py:151: DeprecationWarning: The truth value of an empty array is ambiguous. Returning False, but in future this will result in an error. Use `array.size > 0` to check that an array is not empty.\n",
      "  if diff:\n",
      "C:\\Users\\dkond\\Anaconda3\\lib\\site-packages\\sklearn\\preprocessing\\label.py:151: DeprecationWarning: The truth value of an empty array is ambiguous. Returning False, but in future this will result in an error. Use `array.size > 0` to check that an array is not empty.\n",
      "  if diff:\n",
      "C:\\Users\\dkond\\Anaconda3\\lib\\site-packages\\sklearn\\preprocessing\\label.py:151: DeprecationWarning: The truth value of an empty array is ambiguous. Returning False, but in future this will result in an error. Use `array.size > 0` to check that an array is not empty.\n",
      "  if diff:\n",
      "C:\\Users\\dkond\\Anaconda3\\lib\\site-packages\\sklearn\\preprocessing\\label.py:151: DeprecationWarning: The truth value of an empty array is ambiguous. Returning False, but in future this will result in an error. Use `array.size > 0` to check that an array is not empty.\n",
      "  if diff:\n",
      "C:\\Users\\dkond\\Anaconda3\\lib\\site-packages\\sklearn\\preprocessing\\label.py:151: DeprecationWarning: The truth value of an empty array is ambiguous. Returning False, but in future this will result in an error. Use `array.size > 0` to check that an array is not empty.\n",
      "  if diff:\n",
      "C:\\Users\\dkond\\Anaconda3\\lib\\site-packages\\sklearn\\preprocessing\\label.py:151: DeprecationWarning: The truth value of an empty array is ambiguous. Returning False, but in future this will result in an error. Use `array.size > 0` to check that an array is not empty.\n",
      "  if diff:\n",
      "C:\\Users\\dkond\\Anaconda3\\lib\\site-packages\\sklearn\\preprocessing\\label.py:151: DeprecationWarning: The truth value of an empty array is ambiguous. Returning False, but in future this will result in an error. Use `array.size > 0` to check that an array is not empty.\n",
      "  if diff:\n",
      "C:\\Users\\dkond\\Anaconda3\\lib\\site-packages\\sklearn\\preprocessing\\label.py:151: DeprecationWarning: The truth value of an empty array is ambiguous. Returning False, but in future this will result in an error. Use `array.size > 0` to check that an array is not empty.\n",
      "  if diff:\n",
      "C:\\Users\\dkond\\Anaconda3\\lib\\site-packages\\sklearn\\preprocessing\\label.py:151: DeprecationWarning: The truth value of an empty array is ambiguous. Returning False, but in future this will result in an error. Use `array.size > 0` to check that an array is not empty.\n",
      "  if diff:\n",
      "C:\\Users\\dkond\\Anaconda3\\lib\\site-packages\\sklearn\\preprocessing\\label.py:151: DeprecationWarning: The truth value of an empty array is ambiguous. Returning False, but in future this will result in an error. Use `array.size > 0` to check that an array is not empty.\n",
      "  if diff:\n",
      "C:\\Users\\dkond\\Anaconda3\\lib\\site-packages\\sklearn\\preprocessing\\label.py:151: DeprecationWarning: The truth value of an empty array is ambiguous. Returning False, but in future this will result in an error. Use `array.size > 0` to check that an array is not empty.\n",
      "  if diff:\n",
      "C:\\Users\\dkond\\Anaconda3\\lib\\site-packages\\sklearn\\preprocessing\\label.py:151: DeprecationWarning: The truth value of an empty array is ambiguous. Returning False, but in future this will result in an error. Use `array.size > 0` to check that an array is not empty.\n",
      "  if diff:\n",
      "C:\\Users\\dkond\\Anaconda3\\lib\\site-packages\\sklearn\\preprocessing\\label.py:151: DeprecationWarning: The truth value of an empty array is ambiguous. Returning False, but in future this will result in an error. Use `array.size > 0` to check that an array is not empty.\n",
      "  if diff:\n",
      "C:\\Users\\dkond\\Anaconda3\\lib\\site-packages\\sklearn\\preprocessing\\label.py:151: DeprecationWarning: The truth value of an empty array is ambiguous. Returning False, but in future this will result in an error. Use `array.size > 0` to check that an array is not empty.\n",
      "  if diff:\n",
      "C:\\Users\\dkond\\Anaconda3\\lib\\site-packages\\sklearn\\preprocessing\\label.py:151: DeprecationWarning: The truth value of an empty array is ambiguous. Returning False, but in future this will result in an error. Use `array.size > 0` to check that an array is not empty.\n",
      "  if diff:\n",
      "C:\\Users\\dkond\\Anaconda3\\lib\\site-packages\\sklearn\\preprocessing\\label.py:151: DeprecationWarning: The truth value of an empty array is ambiguous. Returning False, but in future this will result in an error. Use `array.size > 0` to check that an array is not empty.\n",
      "  if diff:\n",
      "C:\\Users\\dkond\\Anaconda3\\lib\\site-packages\\sklearn\\preprocessing\\label.py:151: DeprecationWarning: The truth value of an empty array is ambiguous. Returning False, but in future this will result in an error. Use `array.size > 0` to check that an array is not empty.\n",
      "  if diff:\n",
      "C:\\Users\\dkond\\Anaconda3\\lib\\site-packages\\sklearn\\preprocessing\\label.py:151: DeprecationWarning: The truth value of an empty array is ambiguous. Returning False, but in future this will result in an error. Use `array.size > 0` to check that an array is not empty.\n",
      "  if diff:\n",
      "C:\\Users\\dkond\\Anaconda3\\lib\\site-packages\\sklearn\\preprocessing\\label.py:151: DeprecationWarning: The truth value of an empty array is ambiguous. Returning False, but in future this will result in an error. Use `array.size > 0` to check that an array is not empty.\n",
      "  if diff:\n",
      "C:\\Users\\dkond\\Anaconda3\\lib\\site-packages\\sklearn\\preprocessing\\label.py:151: DeprecationWarning: The truth value of an empty array is ambiguous. Returning False, but in future this will result in an error. Use `array.size > 0` to check that an array is not empty.\n",
      "  if diff:\n",
      "C:\\Users\\dkond\\Anaconda3\\lib\\site-packages\\sklearn\\preprocessing\\label.py:151: DeprecationWarning: The truth value of an empty array is ambiguous. Returning False, but in future this will result in an error. Use `array.size > 0` to check that an array is not empty.\n",
      "  if diff:\n",
      "C:\\Users\\dkond\\Anaconda3\\lib\\site-packages\\sklearn\\preprocessing\\label.py:151: DeprecationWarning: The truth value of an empty array is ambiguous. Returning False, but in future this will result in an error. Use `array.size > 0` to check that an array is not empty.\n",
      "  if diff:\n",
      "C:\\Users\\dkond\\Anaconda3\\lib\\site-packages\\sklearn\\preprocessing\\label.py:151: DeprecationWarning: The truth value of an empty array is ambiguous. Returning False, but in future this will result in an error. Use `array.size > 0` to check that an array is not empty.\n",
      "  if diff:\n",
      "C:\\Users\\dkond\\Anaconda3\\lib\\site-packages\\sklearn\\preprocessing\\label.py:151: DeprecationWarning: The truth value of an empty array is ambiguous. Returning False, but in future this will result in an error. Use `array.size > 0` to check that an array is not empty.\n",
      "  if diff:\n",
      "C:\\Users\\dkond\\Anaconda3\\lib\\site-packages\\sklearn\\preprocessing\\label.py:151: DeprecationWarning: The truth value of an empty array is ambiguous. Returning False, but in future this will result in an error. Use `array.size > 0` to check that an array is not empty.\n",
      "  if diff:\n",
      "C:\\Users\\dkond\\Anaconda3\\lib\\site-packages\\sklearn\\preprocessing\\label.py:151: DeprecationWarning: The truth value of an empty array is ambiguous. Returning False, but in future this will result in an error. Use `array.size > 0` to check that an array is not empty.\n",
      "  if diff:\n"
     ]
    },
    {
     "name": "stderr",
     "output_type": "stream",
     "text": [
      "C:\\Users\\dkond\\Anaconda3\\lib\\site-packages\\sklearn\\preprocessing\\label.py:151: DeprecationWarning: The truth value of an empty array is ambiguous. Returning False, but in future this will result in an error. Use `array.size > 0` to check that an array is not empty.\n",
      "  if diff:\n",
      "C:\\Users\\dkond\\Anaconda3\\lib\\site-packages\\sklearn\\preprocessing\\label.py:151: DeprecationWarning: The truth value of an empty array is ambiguous. Returning False, but in future this will result in an error. Use `array.size > 0` to check that an array is not empty.\n",
      "  if diff:\n",
      "C:\\Users\\dkond\\Anaconda3\\lib\\site-packages\\sklearn\\preprocessing\\label.py:151: DeprecationWarning: The truth value of an empty array is ambiguous. Returning False, but in future this will result in an error. Use `array.size > 0` to check that an array is not empty.\n",
      "  if diff:\n",
      "C:\\Users\\dkond\\Anaconda3\\lib\\site-packages\\sklearn\\preprocessing\\label.py:151: DeprecationWarning: The truth value of an empty array is ambiguous. Returning False, but in future this will result in an error. Use `array.size > 0` to check that an array is not empty.\n",
      "  if diff:\n",
      "C:\\Users\\dkond\\Anaconda3\\lib\\site-packages\\sklearn\\preprocessing\\label.py:151: DeprecationWarning: The truth value of an empty array is ambiguous. Returning False, but in future this will result in an error. Use `array.size > 0` to check that an array is not empty.\n",
      "  if diff:\n",
      "C:\\Users\\dkond\\Anaconda3\\lib\\site-packages\\sklearn\\preprocessing\\label.py:151: DeprecationWarning: The truth value of an empty array is ambiguous. Returning False, but in future this will result in an error. Use `array.size > 0` to check that an array is not empty.\n",
      "  if diff:\n",
      "C:\\Users\\dkond\\Anaconda3\\lib\\site-packages\\sklearn\\preprocessing\\label.py:151: DeprecationWarning: The truth value of an empty array is ambiguous. Returning False, but in future this will result in an error. Use `array.size > 0` to check that an array is not empty.\n",
      "  if diff:\n",
      "C:\\Users\\dkond\\Anaconda3\\lib\\site-packages\\sklearn\\preprocessing\\label.py:151: DeprecationWarning: The truth value of an empty array is ambiguous. Returning False, but in future this will result in an error. Use `array.size > 0` to check that an array is not empty.\n",
      "  if diff:\n",
      "C:\\Users\\dkond\\Anaconda3\\lib\\site-packages\\sklearn\\preprocessing\\label.py:151: DeprecationWarning: The truth value of an empty array is ambiguous. Returning False, but in future this will result in an error. Use `array.size > 0` to check that an array is not empty.\n",
      "  if diff:\n",
      "C:\\Users\\dkond\\Anaconda3\\lib\\site-packages\\sklearn\\preprocessing\\label.py:151: DeprecationWarning: The truth value of an empty array is ambiguous. Returning False, but in future this will result in an error. Use `array.size > 0` to check that an array is not empty.\n",
      "  if diff:\n",
      "C:\\Users\\dkond\\Anaconda3\\lib\\site-packages\\sklearn\\preprocessing\\label.py:151: DeprecationWarning: The truth value of an empty array is ambiguous. Returning False, but in future this will result in an error. Use `array.size > 0` to check that an array is not empty.\n",
      "  if diff:\n",
      "C:\\Users\\dkond\\Anaconda3\\lib\\site-packages\\sklearn\\preprocessing\\label.py:151: DeprecationWarning: The truth value of an empty array is ambiguous. Returning False, but in future this will result in an error. Use `array.size > 0` to check that an array is not empty.\n",
      "  if diff:\n",
      "C:\\Users\\dkond\\Anaconda3\\lib\\site-packages\\sklearn\\preprocessing\\label.py:151: DeprecationWarning: The truth value of an empty array is ambiguous. Returning False, but in future this will result in an error. Use `array.size > 0` to check that an array is not empty.\n",
      "  if diff:\n",
      "C:\\Users\\dkond\\Anaconda3\\lib\\site-packages\\sklearn\\preprocessing\\label.py:151: DeprecationWarning: The truth value of an empty array is ambiguous. Returning False, but in future this will result in an error. Use `array.size > 0` to check that an array is not empty.\n",
      "  if diff:\n",
      "C:\\Users\\dkond\\Anaconda3\\lib\\site-packages\\sklearn\\preprocessing\\label.py:151: DeprecationWarning: The truth value of an empty array is ambiguous. Returning False, but in future this will result in an error. Use `array.size > 0` to check that an array is not empty.\n",
      "  if diff:\n",
      "C:\\Users\\dkond\\Anaconda3\\lib\\site-packages\\sklearn\\preprocessing\\label.py:151: DeprecationWarning: The truth value of an empty array is ambiguous. Returning False, but in future this will result in an error. Use `array.size > 0` to check that an array is not empty.\n",
      "  if diff:\n",
      "C:\\Users\\dkond\\Anaconda3\\lib\\site-packages\\sklearn\\preprocessing\\label.py:151: DeprecationWarning: The truth value of an empty array is ambiguous. Returning False, but in future this will result in an error. Use `array.size > 0` to check that an array is not empty.\n",
      "  if diff:\n",
      "C:\\Users\\dkond\\Anaconda3\\lib\\site-packages\\sklearn\\preprocessing\\label.py:151: DeprecationWarning: The truth value of an empty array is ambiguous. Returning False, but in future this will result in an error. Use `array.size > 0` to check that an array is not empty.\n",
      "  if diff:\n"
     ]
    },
    {
     "data": {
      "text/plain": [
       "GridSearchCV(cv=None, error_score='raise',\n",
       "       estimator=XGBClassifier(base_score=0.5, booster='gbtree', colsample_bylevel=1,\n",
       "       colsample_bynode=1, colsample_bytree=1, gamma=0, learning_rate=0.1,\n",
       "       max_delta_step=0, max_depth=3, min_child_weight=1, missing=None,\n",
       "       n_estimators=100, n_jobs=1, nthread=None,\n",
       "       objective='binary:logistic', random_state=0, reg_alpha=0,\n",
       "       reg_lambda=1, scale_pos_weight=1, seed=None, silent=None,\n",
       "       subsample=1, verbosity=1),\n",
       "       fit_params=None, iid=True, n_jobs=1,\n",
       "       param_grid={'learning_rate': [0.1, 0.2], 'max_depth': [6], 'min_child_weight': [1, 2], 'subsample': [0.5, 0.7], 'n_estimators': [100]},\n",
       "       pre_dispatch='2*n_jobs', refit=True, return_train_score='warn',\n",
       "       scoring='accuracy', verbose=0)"
      ]
     },
     "execution_count": 49,
     "metadata": {},
     "output_type": "execute_result"
    }
   ],
   "source": [
    "param_grid_xgb = {\n",
    "    'learning_rate': [0.1, 0.2],\n",
    "    'max_depth': [6],\n",
    "    'min_child_weight': [1, 2],\n",
    "    'subsample': [0.5, 0.7],\n",
    "    'n_estimators': [100],\n",
    "}\n",
    "\n",
    "grid_clf = GridSearchCV(XGBClassifier(), param_grid_xgb, scoring='accuracy', cv=None)\n",
    "grid_clf.fit(X_train, y_train)"
   ]
  },
  {
   "cell_type": "code",
   "execution_count": 53,
   "metadata": {},
   "outputs": [
    {
     "name": "stderr",
     "output_type": "stream",
     "text": [
      "C:\\Users\\dkond\\Anaconda3\\lib\\site-packages\\sklearn\\preprocessing\\label.py:151: DeprecationWarning: The truth value of an empty array is ambiguous. Returning False, but in future this will result in an error. Use `array.size > 0` to check that an array is not empty.\n",
      "  if diff:\n"
     ]
    },
    {
     "name": "stdout",
     "output_type": "stream",
     "text": [
      "testing data\n",
      "\n",
      "Precision Score: 0.7662278710848842\n",
      "Recall Score: 0.6648286727057897\n",
      "Accuracy Score: 0.8715924045873285\n",
      "F1 Score: 0.7119358920286798\n",
      "training data\n",
      "\n",
      "Precision Score: 0.8295116140559857\n",
      "Recall Score: 0.7197674418604652\n",
      "Accuracy Score: 0.8961584257692549\n",
      "F1 Score: 0.7707526286662977\n",
      "{'learning_rate': 0.2, 'max_depth': 6, 'min_child_weight': 2, 'n_estimators': 100, 'subsample': 0.7}\n"
     ]
    },
    {
     "name": "stderr",
     "output_type": "stream",
     "text": [
      "C:\\Users\\dkond\\Anaconda3\\lib\\site-packages\\sklearn\\preprocessing\\label.py:151: DeprecationWarning: The truth value of an empty array is ambiguous. Returning False, but in future this will result in an error. Use `array.size > 0` to check that an array is not empty.\n",
      "  if diff:\n"
     ]
    }
   ],
   "source": [
    "best_parameters = grid_clf.best_params_\n",
    "\n",
    "training_preds_xgb = grid_clf.predict(X_train)\n",
    "test_preds_xgb = grid_clf.predict(X_test)\n",
    "\n",
    "print('testing data\\n')\n",
    "print_metrics(y_test,test_preds_xgb)\n",
    "print('training data\\n')\n",
    "print_metrics(y_train,training_preds_xgb)\n",
    "\n",
    "#This is the best one!\n",
    "print(best_parameters)"
   ]
  },
  {
   "cell_type": "code",
   "execution_count": 8,
   "metadata": {},
   "outputs": [
    {
     "data": {
      "text/plain": [
       "XGBClassifier(base_score=0.5, booster='gbtree', colsample_bylevel=1,\n",
       "       colsample_bynode=1, colsample_bytree=1, gamma=0, learning_rate=0.2,\n",
       "       max_delta_step=0, max_depth=6, min_child_weight=2, missing=None,\n",
       "       n_estimators=100, n_jobs=1, nthread=None,\n",
       "       objective='binary:logistic', random_state=0, reg_alpha=0,\n",
       "       reg_lambda=1, scale_pos_weight=1, seed=None, silent=None,\n",
       "       subsample=0.7, verbosity=1)"
      ]
     },
     "execution_count": 8,
     "metadata": {},
     "output_type": "execute_result"
    }
   ],
   "source": [
    "from xgboost import XGBClassifier\n",
    "import re\n",
    "\n",
    "regex = re.compile(r\"\\[|\\]|<\", re.IGNORECASE)\n",
    "\n",
    "X_train.columns = [regex.sub(\"_\", col) if any(x in str(col) for x in set(('[', ']', '<'))) else col for col in X_train.columns.values]\n",
    "X_test.columns = [regex.sub(\"_\", col) if any(x in str(col) for x in set(('[', ']', '<'))) else col for col in X_test.columns.values]\n",
    "\n",
    "\n",
    "XGB=XGBClassifier(learning_rate= 0.2, max_depth= 6, min_child_weight= 2, n_estimators= 100, subsample= 0.7)\n",
    "XGB.fit(X_train,y_train)"
   ]
  },
  {
   "cell_type": "code",
   "execution_count": 11,
   "metadata": {},
   "outputs": [
    {
     "name": "stderr",
     "output_type": "stream",
     "text": [
      "C:\\Users\\dkond\\Anaconda3\\lib\\site-packages\\sklearn\\preprocessing\\label.py:151: DeprecationWarning: The truth value of an empty array is ambiguous. Returning False, but in future this will result in an error. Use `array.size > 0` to check that an array is not empty.\n",
      "  if diff:\n",
      "C:\\Users\\dkond\\Anaconda3\\lib\\site-packages\\sklearn\\preprocessing\\label.py:151: DeprecationWarning: The truth value of an empty array is ambiguous. Returning False, but in future this will result in an error. Use `array.size > 0` to check that an array is not empty.\n",
      "  if diff:\n"
     ]
    },
    {
     "name": "stdout",
     "output_type": "stream",
     "text": [
      "testing data\n",
      "\n",
      "Precision Score: 0.7662278710848842\n",
      "Recall Score: 0.6648286727057897\n",
      "Accuracy Score: 0.8715924045873285\n",
      "F1 Score: 0.7119358920286798\n",
      "training data\n",
      "\n",
      "Precision Score: 0.8295116140559857\n",
      "Recall Score: 0.7197674418604652\n",
      "Accuracy Score: 0.8961584257692549\n",
      "F1 Score: 0.7707526286662977\n"
     ]
    }
   ],
   "source": [
    "test_preds_XGB=XGB.predict(X_test)\n",
    "train_preds_XGB=XGB.predict(X_train)\n",
    "\n",
    "print('testing data\\n')\n",
    "print_metrics(y_test,test_preds_XGB)\n",
    "print('training data\\n')\n",
    "print_metrics(y_train,train_preds_XGB)"
   ]
  },
  {
   "cell_type": "code",
   "execution_count": 24,
   "metadata": {},
   "outputs": [
    {
     "data": {
      "text/plain": [
       "<Figure size 1080x1080 with 0 Axes>"
      ]
     },
     "metadata": {},
     "output_type": "display_data"
    },
    {
     "data": {
      "image/png": "[encoded data removed]",
      "text/plain": [
       "<Figure size 432x288 with 1 Axes>"
      ]
     },
     "metadata": {},
     "output_type": "display_data"
    }
   ],
   "source": [
    "from xgboost import plot_importance\n",
    "plt.figure(figsize=(15,15))\n",
    "plot_importance(XGB,max_num_features=10)\n",
    "plt.show()\n",
    "\n",
    "# print(XGB.feature_importances_)"
   ]
  },
  {
   "cell_type": "markdown",
   "metadata": {},
   "source": [
    "The most important predictor for whether or not an arrest was made is if it was in response to a 911 class -- this makes total sense because one would expect that most people calling the police are truly endangered, as opposed to officers making routine traffic stops.\n",
    "\n",
    "Unfortunately, subject's perceived race is an important indicator of arrest likelihood. Further analysis will follow regarding the extent. It appears that white officers born in the late 70s and early 80s (this is, the oldest and most experienced officers) are most willing to make arrests. Arrests appear to be unlikely if no weapon is found. Younger people are most likely to be arrested. Interestingly enough, subject's perceived gender is not on the list."
   ]
  },
  {
   "cell_type": "code",
   "execution_count": 41,
   "metadata": {},
   "outputs": [
    {
     "name": "stdout",
     "output_type": "stream",
     "text": [
      "0.2698011991164405\n",
      "0.23274209012464045\n"
     ]
    }
   ],
   "source": [
    "X['Arrest']=y\n",
    "\n",
    "Black=X[X['Subject Perceived Race_Black or African American']==1]\n",
    "White=X[X['Subject Perceived Race_White']==1]\n",
    "\n",
    "print(sum(Black.Arrest)/len(Black.index))\n",
    "print(sum(White.Arrest)/len(White.index))\n",
    "\n",
    "#White people are slightly less likely to be arrested during a stop"
   ]
  },
  {
   "cell_type": "code",
   "execution_count": 47,
   "metadata": {},
   "outputs": [
    {
     "name": "stderr",
     "output_type": "stream",
     "text": [
      "C:\\Users\\dkond\\Anaconda3\\lib\\site-packages\\ipykernel_launcher.py:3: SettingWithCopyWarning: \n",
      "A value is trying to be set on a copy of a slice from a DataFrame.\n",
      "Try using .loc[row_indexer,col_indexer] = value instead\n",
      "\n",
      "See the caveats in the documentation: http://pandas.pydata.org/pandas-docs/stable/user_guide/indexing.html#returning-a-view-versus-a-copy\n",
      "  This is separate from the ipykernel package so we can avoid doing imports until\n",
      "C:\\Users\\dkond\\Anaconda3\\lib\\site-packages\\ipykernel_launcher.py:4: SettingWithCopyWarning: \n",
      "A value is trying to be set on a copy of a slice from a DataFrame.\n",
      "Try using .loc[row_indexer,col_indexer] = value instead\n",
      "\n",
      "See the caveats in the documentation: http://pandas.pydata.org/pandas-docs/stable/user_guide/indexing.html#returning-a-view-versus-a-copy\n",
      "  after removing the cwd from sys.path.\n",
      "C:\\Users\\dkond\\Anaconda3\\lib\\site-packages\\ipykernel_launcher.py:6: SettingWithCopyWarning: \n",
      "A value is trying to be set on a copy of a slice from a DataFrame.\n",
      "Try using .loc[row_indexer,col_indexer] = value instead\n",
      "\n",
      "See the caveats in the documentation: http://pandas.pydata.org/pandas-docs/stable/user_guide/indexing.html#returning-a-view-versus-a-copy\n",
      "  \n",
      "C:\\Users\\dkond\\Anaconda3\\lib\\site-packages\\ipykernel_launcher.py:7: SettingWithCopyWarning: \n",
      "A value is trying to be set on a copy of a slice from a DataFrame.\n",
      "Try using .loc[row_indexer,col_indexer] = value instead\n",
      "\n",
      "See the caveats in the documentation: http://pandas.pydata.org/pandas-docs/stable/user_guide/indexing.html#returning-a-view-versus-a-copy\n",
      "  import sys\n"
     ]
    }
   ],
   "source": [
    "#Lets switch around the races, keep everything else the same, and see what happens\n",
    "\n",
    "Black['Subject Perceived Race_Black or African American']=0\n",
    "Black['Subject Perceived Race_White']=1\n",
    "\n",
    "White['Subject Perceived Race_Black or African American']=1\n",
    "White['Subject Perceived Race_White']=0\n"
   ]
  },
  {
   "cell_type": "code",
   "execution_count": 51,
   "metadata": {},
   "outputs": [
    {
     "name": "stderr",
     "output_type": "stream",
     "text": [
      "C:\\Users\\dkond\\Anaconda3\\lib\\site-packages\\sklearn\\preprocessing\\label.py:151: DeprecationWarning: The truth value of an empty array is ambiguous. Returning False, but in future this will result in an error. Use `array.size > 0` to check that an array is not empty.\n",
      "  if diff:\n"
     ]
    },
    {
     "name": "stdout",
     "output_type": "stream",
     "text": [
      "0.23264436730829915\n",
      "0.2059443911792905\n"
     ]
    },
    {
     "name": "stderr",
     "output_type": "stream",
     "text": [
      "C:\\Users\\dkond\\Anaconda3\\lib\\site-packages\\sklearn\\preprocessing\\label.py:151: DeprecationWarning: The truth value of an empty array is ambiguous. Returning False, but in future this will result in an error. Use `array.size > 0` to check that an array is not empty.\n",
      "  if diff:\n"
     ]
    }
   ],
   "source": [
    "Blacky=Black.Arrest\n",
    "BlackX=Black.drop('Arrest',axis=1)\n",
    "\n",
    "Whitey=White.Arrest\n",
    "WhiteX=White.drop('Arrest',axis=1)\n",
    "\n",
    "regex = re.compile(r\"\\[|\\]|<\", re.IGNORECASE)\n",
    "\n",
    "BlackX.columns = [regex.sub(\"_\", col) if any(x in str(col) for x in set(('[', ']', '<'))) else col for col in BlackX.columns.values]\n",
    "WhiteX.columns = [regex.sub(\"_\", col) if any(x in str(col) for x in set(('[', ']', '<'))) else col for col in WhiteX.columns.values]\n",
    "\n",
    "\n",
    "Black_pred=XGB.predict(BlackX)\n",
    "print(sum(Black_pred)/len(Black_pred))\n",
    "\n",
    "White_pred=XGB.predict(WhiteX)\n",
    "print(sum(White_pred)/len(White_pred))"
   ]
  },
  {
   "cell_type": "markdown",
   "metadata": {},
   "source": [
    "Well that is odd! All else being equal, a black person who was mistaken to be a white person was 4 points less likely to be arrested - this conforms with the understanding that black people are subject to racist treatment. \n",
    "\n",
    "However, a white person mistaken as being black is ALSO 3 points less likely to be arrested!"
   ]
  },
  {
   "cell_type": "code",
   "execution_count": 56,
   "metadata": {},
   "outputs": [
    {
     "name": "stdout",
     "output_type": "stream",
     "text": [
      "Probability of Woman arrest:  0.228355474118186\n",
      "Probability of Man arrest:  0.24662151993980436\n",
      "Probability of Black Woman arrest:  0.2653061224489796\n",
      "Probability of Black Man arrest:  0.2707874844512487\n"
     ]
    }
   ],
   "source": [
    "Women=X[X['Subject Perceived Gender_Female']==1]\n",
    "Men=X[X['Subject Perceived Gender_Male']==1]\n",
    "BlackWomen=Women[Women['Subject Perceived Race_Black or African American']==1]\n",
    "BlackMen=Men[Men['Subject Perceived Race_Black or African American']==1]\n",
    "\n",
    "print('Probability of Woman arrest: ',sum(Women.Arrest)/len(Women.Arrest))\n",
    "print('Probability of Man arrest: ',sum(Men.Arrest)/len(Men.Arrest))\n",
    "print('Probability of Black Woman arrest: ',sum(BlackWomen.Arrest)/len(BlackWomen.Arrest))\n",
    "print('Probability of Black Man arrest: ',sum(BlackMen.Arrest)/len(BlackMen.Arrest))"
   ]
  },
  {
   "cell_type": "code",
   "execution_count": 71,
   "metadata": {},
   "outputs": [
    {
     "name": "stdout",
     "output_type": "stream",
     "text": [
      "0.2778249787595582\n"
     ]
    }
   ],
   "source": [
    "Worst=X[(X['Subject Perceived Race_Black or African American']==1) &\n",
    "  (X['Officer Generation_(1978, 1985]']==1) &\n",
    "  (X['Subject Perceived Gender_Male']==1) &\n",
    "  ((X['Subject Age Group_26 - 35']==1)| X['Subject Age Group_18 - 25']==1) &\n",
    " (X['Officer Race_White']==1)]\n",
    "\n",
    "print(sum(Worst.Arrest)/len(Worst.index))"
   ]
  }
 ],
 "metadata": {
  "kernelspec": {
   "display_name": "Python 3",
   "language": "python",
   "name": "python3"
  },
  "language_info": {
   "codemirror_mode": {
    "name": "ipython",
    "version": 3
   },
   "file_extension": ".py",
   "mimetype": "text/x-python",
   "name": "python",
   "nbconvert_exporter": "python",
   "pygments_lexer": "ipython3",
   "version": "3.6.5"
  }
 },
 "nbformat": 4,
 "nbformat_minor": 2
}
